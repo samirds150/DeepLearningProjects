{
 "cells": [
  {
   "cell_type": "code",
   "execution_count": 36,
   "id": "d039725e",
   "metadata": {},
   "outputs": [],
   "source": [
    "import tensorflow as tf\n",
    "from tensorflow import keras\n",
    "import matplotlib.pyplot as plt\n",
    "import numpy as np"
   ]
  },
  {
   "cell_type": "code",
   "execution_count": 37,
   "id": "664ba5c4",
   "metadata": {},
   "outputs": [],
   "source": [
    " (X_train, y_train), (X_test, y_test)= keras.datasets.mnist.load_data()"
   ]
  },
  {
   "cell_type": "code",
   "execution_count": 38,
   "id": "3d25da11",
   "metadata": {},
   "outputs": [
    {
     "data": {
      "text/plain": [
       "60000"
      ]
     },
     "execution_count": 38,
     "metadata": {},
     "output_type": "execute_result"
    }
   ],
   "source": [
    "len(X_train)"
   ]
  },
  {
   "cell_type": "code",
   "execution_count": 39,
   "id": "83bb2058",
   "metadata": {},
   "outputs": [
    {
     "data": {
      "text/plain": [
       "10000"
      ]
     },
     "execution_count": 39,
     "metadata": {},
     "output_type": "execute_result"
    }
   ],
   "source": [
    "len(X_test)"
   ]
  },
  {
   "cell_type": "code",
   "execution_count": 40,
   "id": "58ccb320",
   "metadata": {},
   "outputs": [
    {
     "data": {
      "text/plain": [
       "(60000, 28, 28)"
      ]
     },
     "execution_count": 40,
     "metadata": {},
     "output_type": "execute_result"
    }
   ],
   "source": [
    "X_train.shape"
   ]
  },
  {
   "cell_type": "code",
   "execution_count": 41,
   "id": "ebce92e0",
   "metadata": {},
   "outputs": [
    {
     "data": {
      "text/plain": [
       "<matplotlib.image.AxesImage at 0x16d43f1eb50>"
      ]
     },
     "execution_count": 41,
     "metadata": {},
     "output_type": "execute_result"
    },
    {
     "data": {
      "image/png": "[encoded data removed]",
      "text/plain": [
       "<Figure size 288x288 with 1 Axes>"
      ]
     },
     "metadata": {
      "needs_background": "light"
     },
     "output_type": "display_data"
    }
   ],
   "source": [
    "plt.matshow(X_train[2])"
   ]
  },
  {
   "cell_type": "code",
   "execution_count": 42,
   "id": "9b5a16f3",
   "metadata": {},
   "outputs": [
    {
     "data": {
      "text/plain": [
       "4"
      ]
     },
     "execution_count": 42,
     "metadata": {},
     "output_type": "execute_result"
    }
   ],
   "source": [
    "y_train[2]"
   ]
  },
  {
   "cell_type": "code",
   "execution_count": 43,
   "id": "ea53e71a",
   "metadata": {},
   "outputs": [],
   "source": [
    "X_train = X_train/255\n",
    "X_test = X_test/255"
   ]
  },
  {
   "cell_type": "code",
   "execution_count": 44,
   "id": "176ad42f",
   "metadata": {},
   "outputs": [],
   "source": [
    "X_train_flattened = X_train.reshape(len(X_train),28*28)\n",
    "X_test_flattened = X_test.reshape(len(X_test),28*28)"
   ]
  },
  {
   "cell_type": "code",
   "execution_count": 45,
   "id": "cae0d392",
   "metadata": {},
   "outputs": [
    {
     "data": {
      "text/plain": [
       "(60000, 784)"
      ]
     },
     "execution_count": 45,
     "metadata": {},
     "output_type": "execute_result"
    }
   ],
   "source": [
    "X_train_flattened.shape"
   ]
  },
  {
   "cell_type": "code",
   "execution_count": 46,
   "id": "ad532fcd",
   "metadata": {},
   "outputs": [
    {
     "data": {
      "text/plain": [
       "array([0.        , 0.        , 0.        , 0.        , 0.        ,\n",
       "       0.        , 0.        , 0.        , 0.        , 0.        ,\n",
       "       0.        , 0.        , 0.        , 0.        , 0.        ,\n",
       "       0.        , 0.        , 0.        , 0.        , 0.        ,\n",
       "       0.        , 0.        , 0.        , 0.        , 0.        ,\n",
       "       0.        , 0.        , 0.        , 0.        , 0.        ,\n",
       "       0.        , 0.        , 0.        , 0.        , 0.        ,\n",
       "       0.        , 0.        , 0.        , 0.        , 0.        ,\n",
       "       0.        , 0.        , 0.        , 0.        , 0.        ,\n",
       "       0.        , 0.        , 0.        , 0.        , 0.        ,\n",
       "       0.        , 0.        , 0.        , 0.        , 0.        ,\n",
       "       0.        , 0.        , 0.        , 0.        , 0.        ,\n",
       "       0.        , 0.        , 0.        , 0.        , 0.        ,\n",
       "       0.        , 0.        , 0.        , 0.        , 0.        ,\n",
       "       0.        , 0.        , 0.        , 0.        , 0.        ,\n",
       "       0.        , 0.        , 0.        , 0.        , 0.        ,\n",
       "       0.        , 0.        , 0.        , 0.        , 0.        ,\n",
       "       0.        , 0.        , 0.        , 0.        , 0.        ,\n",
       "       0.        , 0.        , 0.        , 0.        , 0.        ,\n",
       "       0.        , 0.        , 0.        , 0.        , 0.        ,\n",
       "       0.        , 0.        , 0.        , 0.        , 0.        ,\n",
       "       0.        , 0.        , 0.        , 0.        , 0.        ,\n",
       "       0.        , 0.        , 0.        , 0.        , 0.        ,\n",
       "       0.        , 0.        , 0.        , 0.        , 0.        ,\n",
       "       0.        , 0.        , 0.        , 0.        , 0.        ,\n",
       "       0.        , 0.        , 0.        , 0.        , 0.        ,\n",
       "       0.        , 0.        , 0.        , 0.        , 0.        ,\n",
       "       0.        , 0.        , 0.        , 0.        , 0.        ,\n",
       "       0.        , 0.        , 0.        , 0.        , 0.        ,\n",
       "       0.        , 0.        , 0.        , 0.        , 0.        ,\n",
       "       0.        , 0.        , 0.01176471, 0.07058824, 0.07058824,\n",
       "       0.07058824, 0.49411765, 0.53333333, 0.68627451, 0.10196078,\n",
       "       0.65098039, 1.        , 0.96862745, 0.49803922, 0.        ,\n",
       "       0.        , 0.        , 0.        , 0.        , 0.        ,\n",
       "       0.        , 0.        , 0.        , 0.        , 0.        ,\n",
       "       0.        , 0.11764706, 0.14117647, 0.36862745, 0.60392157,\n",
       "       0.66666667, 0.99215686, 0.99215686, 0.99215686, 0.99215686,\n",
       "       0.99215686, 0.88235294, 0.6745098 , 0.99215686, 0.94901961,\n",
       "       0.76470588, 0.25098039, 0.        , 0.        , 0.        ,\n",
       "       0.        , 0.        , 0.        , 0.        , 0.        ,\n",
       "       0.        , 0.        , 0.        , 0.19215686, 0.93333333,\n",
       "       0.99215686, 0.99215686, 0.99215686, 0.99215686, 0.99215686,\n",
       "       0.99215686, 0.99215686, 0.99215686, 0.98431373, 0.36470588,\n",
       "       0.32156863, 0.32156863, 0.21960784, 0.15294118, 0.        ,\n",
       "       0.        , 0.        , 0.        , 0.        , 0.        ,\n",
       "       0.        , 0.        , 0.        , 0.        , 0.        ,\n",
       "       0.        , 0.07058824, 0.85882353, 0.99215686, 0.99215686,\n",
       "       0.99215686, 0.99215686, 0.99215686, 0.77647059, 0.71372549,\n",
       "       0.96862745, 0.94509804, 0.        , 0.        , 0.        ,\n",
       "       0.        , 0.        , 0.        , 0.        , 0.        ,\n",
       "       0.        , 0.        , 0.        , 0.        , 0.        ,\n",
       "       0.        , 0.        , 0.        , 0.        , 0.        ,\n",
       "       0.31372549, 0.61176471, 0.41960784, 0.99215686, 0.99215686,\n",
       "       0.80392157, 0.04313725, 0.        , 0.16862745, 0.60392157,\n",
       "       0.        , 0.        , 0.        , 0.        , 0.        ,\n",
       "       0.        , 0.        , 0.        , 0.        , 0.        ,\n",
       "       0.        , 0.        , 0.        , 0.        , 0.        ,\n",
       "       0.        , 0.        , 0.        , 0.        , 0.05490196,\n",
       "       0.00392157, 0.60392157, 0.99215686, 0.35294118, 0.        ,\n",
       "       0.        , 0.        , 0.        , 0.        , 0.        ,\n",
       "       0.        , 0.        , 0.        , 0.        , 0.        ,\n",
       "       0.        , 0.        , 0.        , 0.        , 0.        ,\n",
       "       0.        , 0.        , 0.        , 0.        , 0.        ,\n",
       "       0.        , 0.        , 0.        , 0.        , 0.54509804,\n",
       "       0.99215686, 0.74509804, 0.00784314, 0.        , 0.        ,\n",
       "       0.        , 0.        , 0.        , 0.        , 0.        ,\n",
       "       0.        , 0.        , 0.        , 0.        , 0.        ,\n",
       "       0.        , 0.        , 0.        , 0.        , 0.        ,\n",
       "       0.        , 0.        , 0.        , 0.        , 0.        ,\n",
       "       0.        , 0.        , 0.04313725, 0.74509804, 0.99215686,\n",
       "       0.2745098 , 0.        , 0.        , 0.        , 0.        ,\n",
       "       0.        , 0.        , 0.        , 0.        , 0.        ,\n",
       "       0.        , 0.        , 0.        , 0.        , 0.        ,\n",
       "       0.        , 0.        , 0.        , 0.        , 0.        ,\n",
       "       0.        , 0.        , 0.        , 0.        , 0.        ,\n",
       "       0.        , 0.1372549 , 0.94509804, 0.88235294, 0.62745098,\n",
       "       0.42352941, 0.00392157, 0.        , 0.        , 0.        ,\n",
       "       0.        , 0.        , 0.        , 0.        , 0.        ,\n",
       "       0.        , 0.        , 0.        , 0.        , 0.        ,\n",
       "       0.        , 0.        , 0.        , 0.        , 0.        ,\n",
       "       0.        , 0.        , 0.        , 0.        , 0.        ,\n",
       "       0.31764706, 0.94117647, 0.99215686, 0.99215686, 0.46666667,\n",
       "       0.09803922, 0.        , 0.        , 0.        , 0.        ,\n",
       "       0.        , 0.        , 0.        , 0.        , 0.        ,\n",
       "       0.        , 0.        , 0.        , 0.        , 0.        ,\n",
       "       0.        , 0.        , 0.        , 0.        , 0.        ,\n",
       "       0.        , 0.        , 0.        , 0.        , 0.17647059,\n",
       "       0.72941176, 0.99215686, 0.99215686, 0.58823529, 0.10588235,\n",
       "       0.        , 0.        , 0.        , 0.        , 0.        ,\n",
       "       0.        , 0.        , 0.        , 0.        , 0.        ,\n",
       "       0.        , 0.        , 0.        , 0.        , 0.        ,\n",
       "       0.        , 0.        , 0.        , 0.        , 0.        ,\n",
       "       0.        , 0.        , 0.        , 0.0627451 , 0.36470588,\n",
       "       0.98823529, 0.99215686, 0.73333333, 0.        , 0.        ,\n",
       "       0.        , 0.        , 0.        , 0.        , 0.        ,\n",
       "       0.        , 0.        , 0.        , 0.        , 0.        ,\n",
       "       0.        , 0.        , 0.        , 0.        , 0.        ,\n",
       "       0.        , 0.        , 0.        , 0.        , 0.        ,\n",
       "       0.        , 0.        , 0.        , 0.97647059, 0.99215686,\n",
       "       0.97647059, 0.25098039, 0.        , 0.        , 0.        ,\n",
       "       0.        , 0.        , 0.        , 0.        , 0.        ,\n",
       "       0.        , 0.        , 0.        , 0.        , 0.        ,\n",
       "       0.        , 0.        , 0.        , 0.        , 0.        ,\n",
       "       0.        , 0.        , 0.        , 0.18039216, 0.50980392,\n",
       "       0.71764706, 0.99215686, 0.99215686, 0.81176471, 0.00784314,\n",
       "       0.        , 0.        , 0.        , 0.        , 0.        ,\n",
       "       0.        , 0.        , 0.        , 0.        , 0.        ,\n",
       "       0.        , 0.        , 0.        , 0.        , 0.        ,\n",
       "       0.        , 0.        , 0.        , 0.        , 0.15294118,\n",
       "       0.58039216, 0.89803922, 0.99215686, 0.99215686, 0.99215686,\n",
       "       0.98039216, 0.71372549, 0.        , 0.        , 0.        ,\n",
       "       0.        , 0.        , 0.        , 0.        , 0.        ,\n",
       "       0.        , 0.        , 0.        , 0.        , 0.        ,\n",
       "       0.        , 0.        , 0.        , 0.        , 0.        ,\n",
       "       0.09411765, 0.44705882, 0.86666667, 0.99215686, 0.99215686,\n",
       "       0.99215686, 0.99215686, 0.78823529, 0.30588235, 0.        ,\n",
       "       0.        , 0.        , 0.        , 0.        , 0.        ,\n",
       "       0.        , 0.        , 0.        , 0.        , 0.        ,\n",
       "       0.        , 0.        , 0.        , 0.        , 0.        ,\n",
       "       0.        , 0.09019608, 0.25882353, 0.83529412, 0.99215686,\n",
       "       0.99215686, 0.99215686, 0.99215686, 0.77647059, 0.31764706,\n",
       "       0.00784314, 0.        , 0.        , 0.        , 0.        ,\n",
       "       0.        , 0.        , 0.        , 0.        , 0.        ,\n",
       "       0.        , 0.        , 0.        , 0.        , 0.        ,\n",
       "       0.        , 0.        , 0.07058824, 0.67058824, 0.85882353,\n",
       "       0.99215686, 0.99215686, 0.99215686, 0.99215686, 0.76470588,\n",
       "       0.31372549, 0.03529412, 0.        , 0.        , 0.        ,\n",
       "       0.        , 0.        , 0.        , 0.        , 0.        ,\n",
       "       0.        , 0.        , 0.        , 0.        , 0.        ,\n",
       "       0.        , 0.        , 0.        , 0.21568627, 0.6745098 ,\n",
       "       0.88627451, 0.99215686, 0.99215686, 0.99215686, 0.99215686,\n",
       "       0.95686275, 0.52156863, 0.04313725, 0.        , 0.        ,\n",
       "       0.        , 0.        , 0.        , 0.        , 0.        ,\n",
       "       0.        , 0.        , 0.        , 0.        , 0.        ,\n",
       "       0.        , 0.        , 0.        , 0.        , 0.        ,\n",
       "       0.        , 0.53333333, 0.99215686, 0.99215686, 0.99215686,\n",
       "       0.83137255, 0.52941176, 0.51764706, 0.0627451 , 0.        ,\n",
       "       0.        , 0.        , 0.        , 0.        , 0.        ,\n",
       "       0.        , 0.        , 0.        , 0.        , 0.        ,\n",
       "       0.        , 0.        , 0.        , 0.        , 0.        ,\n",
       "       0.        , 0.        , 0.        , 0.        , 0.        ,\n",
       "       0.        , 0.        , 0.        , 0.        , 0.        ,\n",
       "       0.        , 0.        , 0.        , 0.        , 0.        ,\n",
       "       0.        , 0.        , 0.        , 0.        , 0.        ,\n",
       "       0.        , 0.        , 0.        , 0.        , 0.        ,\n",
       "       0.        , 0.        , 0.        , 0.        , 0.        ,\n",
       "       0.        , 0.        , 0.        , 0.        , 0.        ,\n",
       "       0.        , 0.        , 0.        , 0.        , 0.        ,\n",
       "       0.        , 0.        , 0.        , 0.        , 0.        ,\n",
       "       0.        , 0.        , 0.        , 0.        , 0.        ,\n",
       "       0.        , 0.        , 0.        , 0.        , 0.        ,\n",
       "       0.        , 0.        , 0.        , 0.        , 0.        ,\n",
       "       0.        , 0.        , 0.        , 0.        , 0.        ,\n",
       "       0.        , 0.        , 0.        , 0.        , 0.        ,\n",
       "       0.        , 0.        , 0.        , 0.        , 0.        ,\n",
       "       0.        , 0.        , 0.        , 0.        , 0.        ,\n",
       "       0.        , 0.        , 0.        , 0.        ])"
      ]
     },
     "execution_count": 46,
     "metadata": {},
     "output_type": "execute_result"
    }
   ],
   "source": [
    "X_train_flattened[0]"
   ]
  },
  {
   "cell_type": "code",
   "execution_count": 47,
   "id": "c4966497",
   "metadata": {},
   "outputs": [
    {
     "data": {
      "text/plain": [
       "keras.callbacks.TensorBoard"
      ]
     },
     "execution_count": 47,
     "metadata": {},
     "output_type": "execute_result"
    }
   ],
   "source": [
    "model = keras.Sequential([\n",
    "    keras.layers.Dense(10,input_shape=(784,), activation = 'sigmoid')\n",
    "])\n",
    "tb_callback = tf.keras.callbacks.TensorBoard(log_dir = 'logs/',histogram_freq = 1)\n",
    "tf.keras.callbacks.TensorBoard"
   ]
  },
  {
   "cell_type": "code",
   "execution_count": 48,
   "id": "d12d3346",
   "metadata": {},
   "outputs": [],
   "source": [
    "model.compile(optimizer='adam',\n",
    "    loss='sparse_categorical_crossentropy',\n",
    "    metrics=['accuracy'])"
   ]
  },
  {
   "cell_type": "code",
   "execution_count": 49,
   "id": "d69648b4",
   "metadata": {
    "scrolled": true
   },
   "outputs": [
    {
     "name": "stdout",
     "output_type": "stream",
     "text": [
      "Epoch 1/5\n",
      "1875/1875 [==============================] - 2s 747us/step - loss: 0.4687 - accuracy: 0.8783\n",
      "Epoch 2/5\n",
      "1875/1875 [==============================] - 1s 663us/step - loss: 0.3038 - accuracy: 0.9156\n",
      "Epoch 3/5\n",
      "1875/1875 [==============================] - 1s 653us/step - loss: 0.2834 - accuracy: 0.9207\n",
      "Epoch 4/5\n",
      "1875/1875 [==============================] - 1s 627us/step - loss: 0.2731 - accuracy: 0.9231\n",
      "Epoch 5/5\n",
      "1875/1875 [==============================] - 1s 766us/step - loss: 0.2666 - accuracy: 0.9262\n"
     ]
    },
    {
     "data": {
      "text/plain": [
       "<keras.callbacks.History at 0x16d446a8d30>"
      ]
     },
     "execution_count": 49,
     "metadata": {},
     "output_type": "execute_result"
    }
   ],
   "source": [
    "model.fit(X_train_flattened,y_train,epochs =5,callbacks =[tb_callback] )"
   ]
  },
  {
   "cell_type": "code",
   "execution_count": 50,
   "id": "9f0ec045",
   "metadata": {},
   "outputs": [
    {
     "name": "stdout",
     "output_type": "stream",
     "text": [
      "313/313 [==============================] - 0s 864us/step - loss: 0.2661 - accuracy: 0.9261\n"
     ]
    },
    {
     "data": {
      "text/plain": [
       "[0.2660534381866455, 0.9261000156402588]"
      ]
     },
     "execution_count": 50,
     "metadata": {},
     "output_type": "execute_result"
    }
   ],
   "source": [
    "model.evaluate(X_test_flattened,y_test)"
   ]
  },
  {
   "cell_type": "code",
   "execution_count": 51,
   "id": "2caac00f",
   "metadata": {},
   "outputs": [],
   "source": [
    "y_predicted = model.predict(X_test_flattened)"
   ]
  },
  {
   "cell_type": "code",
   "execution_count": 52,
   "id": "38ab873f",
   "metadata": {
    "scrolled": false
   },
   "outputs": [
    {
     "data": {
      "text/plain": [
       "array([9.99236465e-01, 1.91802201e-08, 9.13138688e-02, 7.33250380e-03,\n",
       "       4.92836043e-05, 1.11148834e-01, 1.07971132e-01, 1.64974034e-02,\n",
       "       3.81576419e-02, 2.46966779e-02], dtype=float32)"
      ]
     },
     "execution_count": 52,
     "metadata": {},
     "output_type": "execute_result"
    }
   ],
   "source": [
    "y_predicted[3]"
   ]
  },
  {
   "cell_type": "code",
   "execution_count": 53,
   "id": "ae265db1",
   "metadata": {},
   "outputs": [
    {
     "data": {
      "text/plain": [
       "0"
      ]
     },
     "execution_count": 53,
     "metadata": {},
     "output_type": "execute_result"
    }
   ],
   "source": [
    "np.argmax(y_predicted[3])"
   ]
  },
  {
   "cell_type": "code",
   "execution_count": 54,
   "id": "a03254b2",
   "metadata": {},
   "outputs": [],
   "source": [
    "y_predicted_label = [np.argmax(i) for i in y_predicted]"
   ]
  },
  {
   "cell_type": "code",
   "execution_count": 55,
   "id": "4fbfbcf2",
   "metadata": {},
   "outputs": [
    {
     "data": {
      "text/plain": [
       "<matplotlib.image.AxesImage at 0x16d37f60cd0>"
      ]
     },
     "execution_count": 55,
     "metadata": {},
     "output_type": "execute_result"
    },
    {
     "data": {
      "image/png": "[encoded data removed]",
      "text/plain": [
       "<Figure size 288x288 with 1 Axes>"
      ]
     },
     "metadata": {
      "needs_background": "light"
     },
     "output_type": "display_data"
    }
   ],
   "source": [
    "plt.matshow(X_test[3])"
   ]
  },
  {
   "cell_type": "code",
   "execution_count": 56,
   "id": "d44ef06f",
   "metadata": {},
   "outputs": [],
   "source": [
    "cm = tf.math.confusion_matrix(labels = y_test,predictions=y_predicted_label)"
   ]
  },
  {
   "cell_type": "code",
   "execution_count": 57,
   "id": "16b32a92",
   "metadata": {},
   "outputs": [],
   "source": [
    "import seaborn as sns"
   ]
  },
  {
   "cell_type": "code",
   "execution_count": 58,
   "id": "8823fd93",
   "metadata": {},
   "outputs": [
    {
     "data": {
      "text/plain": [
       "<AxesSubplot:>"
      ]
     },
     "execution_count": 58,
     "metadata": {},
     "output_type": "execute_result"
    },
    {
     "data": {
      "image/png": "[encoded data removed]",
      "text/plain": [
       "<Figure size 432x288 with 2 Axes>"
      ]
     },
     "metadata": {
      "needs_background": "light"
     },
     "output_type": "display_data"
    }
   ],
   "source": [
    "sns.heatmap(cm, annot = True,fmt = 'd')"
   ]
  },
  {
   "cell_type": "code",
   "execution_count": 59,
   "id": "2ef8082f",
   "metadata": {},
   "outputs": [],
   "source": [
    "model = keras.Sequential([\n",
    "    keras.layers.Dense(100,input_shape=(784,), activation = 'sigmoid'),\n",
    "    keras.layers.Dense(10,activation = 'sigmoid')\n",
    "    \n",
    "])"
   ]
  },
  {
   "cell_type": "code",
   "execution_count": 60,
   "id": "bb25c97c",
   "metadata": {},
   "outputs": [],
   "source": [
    "model.compile(optimizer='adam',\n",
    "    loss='sparse_categorical_crossentropy',\n",
    "    metrics=['accuracy'],)"
   ]
  },
  {
   "cell_type": "code",
   "execution_count": 61,
   "id": "49aaad7f",
   "metadata": {},
   "outputs": [],
   "source": [
    "y_predicted = model.predict(X_test_flattened)"
   ]
  },
  {
   "cell_type": "code",
   "execution_count": 62,
   "id": "7ccb4edb",
   "metadata": {},
   "outputs": [],
   "source": [
    "y_predicted_label = [np.argmax(i) for i in y_predicted]"
   ]
  },
  {
   "cell_type": "code",
   "execution_count": 63,
   "id": "5e3590e2",
   "metadata": {},
   "outputs": [],
   "source": [
    "cm = tf.math.confusion_matrix(labels = y_test,predictions=y_predicted_label)"
   ]
  },
  {
   "cell_type": "code",
   "execution_count": 64,
   "id": "bd749788",
   "metadata": {
    "scrolled": true
   },
   "outputs": [
    {
     "name": "stdout",
     "output_type": "stream",
     "text": [
      "The tensorboard extension is already loaded. To reload it, use:\n",
      "  %reload_ext tensorboard\n"
     ]
    },
    {
     "data": {
      "text/plain": [
       "Reusing TensorBoard on port 6006 (pid 19376), started 0:00:39 ago. (Use '!kill 19376' to kill it.)"
      ]
     },
     "metadata": {},
     "output_type": "display_data"
    },
    {
     "data": {
      "text/html": [
       "\n",
       "      <iframe id=\"tensorboard-frame-1c9c19512cff846d\" width=\"100%\" height=\"800\" frameborder=\"0\">\n",
       "      </iframe>\n",
       "      <script>\n",
       "        (function() {\n",
       "          const frame = document.getElementById(\"tensorboard-frame-1c9c19512cff846d\");\n",
       "          const url = new URL(\"/\", window.location);\n",
       "          const port = 6006;\n",
       "          if (port) {\n",
       "            url.port = port;\n",
       "          }\n",
       "          frame.src = url;\n",
       "        })();\n",
       "      </script>\n",
       "    "
      ],
      "text/plain": [
       "<IPython.core.display.HTML object>"
      ]
     },
     "metadata": {},
     "output_type": "display_data"
    }
   ],
   "source": [
    "%load_ext tensorboard\n",
    "%tensorboard --logdir logs"
   ]
  },
  {
   "cell_type": "code",
   "execution_count": 65,
   "id": "144238df",
   "metadata": {},
   "outputs": [],
   "source": [
    "import numpy as np"
   ]
  },
  {
   "cell_type": "code",
   "execution_count": 66,
   "id": "a78375e4",
   "metadata": {},
   "outputs": [
    {
     "data": {
      "text/plain": [
       "-1.1102230246251565e-16"
      ]
     },
     "execution_count": 66,
     "metadata": {},
     "output_type": "execute_result"
    }
   ],
   "source": [
    "np.log(0.9999999999999999)"
   ]
  },
  {
   "cell_type": "code",
   "execution_count": 67,
   "id": "1171cafe",
   "metadata": {},
   "outputs": [
    {
     "data": {
      "text/plain": [
       "-34.538776394910684"
      ]
     },
     "execution_count": 67,
     "metadata": {},
     "output_type": "execute_result"
    }
   ],
   "source": [
    "np.log(0.000000000000001)"
   ]
  },
  {
   "cell_type": "code",
   "execution_count": 68,
   "id": "f3fe83a0",
   "metadata": {},
   "outputs": [],
   "source": [
    "epsilon = 1e-15"
   ]
  },
  {
   "cell_type": "code",
   "execution_count": 69,
   "id": "76c8603c",
   "metadata": {},
   "outputs": [],
   "source": [
    "y_predicted = np.array([1,1,0,0,1])\n",
    "y_actual = np.array([0.3,0.7,1,0,0.5])"
   ]
  },
  {
   "cell_type": "code",
   "execution_count": 70,
   "id": "05f8d30f",
   "metadata": {},
   "outputs": [],
   "source": [
    "y_predicted_new = [max(i,epsilon) for i in y_predicted]"
   ]
  },
  {
   "cell_type": "code",
   "execution_count": 71,
   "id": "c074d460",
   "metadata": {},
   "outputs": [
    {
     "data": {
      "text/plain": [
       "[1, 1, 1e-15, 1e-15, 1]"
      ]
     },
     "execution_count": 71,
     "metadata": {},
     "output_type": "execute_result"
    }
   ],
   "source": [
    "y_predicted_new"
   ]
  },
  {
   "cell_type": "code",
   "execution_count": 72,
   "id": "4408db2d",
   "metadata": {},
   "outputs": [],
   "source": [
    "y_predicted_new = [min(i,1-epsilon) for i in y_predicted_new]"
   ]
  },
  {
   "cell_type": "code",
   "execution_count": 73,
   "id": "7a02c252",
   "metadata": {},
   "outputs": [],
   "source": [
    "y_predicted_new = np.array(y_predicted_new)"
   ]
  },
  {
   "cell_type": "code",
   "execution_count": 74,
   "id": "c34bda6f",
   "metadata": {},
   "outputs": [
    {
     "data": {
      "text/plain": [
       "array([-9.99200722e-16, -9.99200722e-16, -3.45387764e+01, -3.45387764e+01,\n",
       "       -9.99200722e-16])"
      ]
     },
     "execution_count": 74,
     "metadata": {},
     "output_type": "execute_result"
    }
   ],
   "source": [
    "np.log(y_predicted_new)"
   ]
  },
  {
   "cell_type": "code",
   "execution_count": 75,
   "id": "a250b08a",
   "metadata": {},
   "outputs": [
    {
     "name": "stderr",
     "output_type": "stream",
     "text": [
      "C:\\Users\\SAMIR\\AppData\\Local\\Temp/ipykernel_25156/2958466777.py:1: RuntimeWarning: divide by zero encountered in log\n",
      "  np.log(y_predicted )\n"
     ]
    },
    {
     "data": {
      "text/plain": [
       "array([  0.,   0., -inf, -inf,   0.])"
      ]
     },
     "execution_count": 75,
     "metadata": {},
     "output_type": "execute_result"
    }
   ],
   "source": [
    "np.log(y_predicted )"
   ]
  },
  {
   "cell_type": "code",
   "execution_count": 76,
   "id": "eb698303",
   "metadata": {},
   "outputs": [
    {
     "data": {
      "text/plain": [
       "17.2696280766844"
      ]
     },
     "execution_count": 76,
     "metadata": {},
     "output_type": "execute_result"
    }
   ],
   "source": [
    "-np.mean(y_actual*np.log(y_predicted_new)+(1-y_actual)*np.log(1-y_predicted_new))"
   ]
  },
  {
   "cell_type": "code",
   "execution_count": 77,
   "id": "431994b1",
   "metadata": {},
   "outputs": [],
   "source": [
    "def log_loss(y_actual,y_predicted):\n",
    "    epsilon = 1e-15\n",
    "    y_predicted_new = [max(i,epsilon) for i in y_predicted]\n",
    "    y_predicted_new = [min(i,1-epsilon) for i in y_predicted_new]\n",
    "    y_predicted_new = np.array(y_predicted_new)\n",
    "    return -np.mean(y_actual*np.log(y_predicted_new)+(1-y_actual)*np.log(1-y_predicted_new))\n",
    "                       \n",
    "                       "
   ]
  },
  {
   "cell_type": "code",
   "execution_count": 78,
   "id": "ba5cd79a",
   "metadata": {},
   "outputs": [
    {
     "data": {
      "text/plain": [
       "17.2696280766844"
      ]
     },
     "execution_count": 78,
     "metadata": {},
     "output_type": "execute_result"
    }
   ],
   "source": [
    "log_loss(y_actual,y_predicted)"
   ]
  },
  {
   "cell_type": "code",
   "execution_count": 79,
   "id": "69d7cfac",
   "metadata": {},
   "outputs": [],
   "source": [
    "import pandas as pd\n",
    "import tensorflow as tf\n",
    "from tensorflow import keras\n",
    "import matplotlib.pyplot as plt"
   ]
  },
  {
   "cell_type": "code",
   "execution_count": 80,
   "id": "63d86024",
   "metadata": {},
   "outputs": [],
   "source": [
    "df = pd.read_csv(\"book1.csv\")"
   ]
  },
  {
   "cell_type": "code",
   "execution_count": 81,
   "id": "df34f493",
   "metadata": {},
   "outputs": [
    {
     "data": {
      "text/html": [
       "<div>\n",
       "<style scoped>\n",
       "    .dataframe tbody tr th:only-of-type {\n",
       "        vertical-align: middle;\n",
       "    }\n",
       "\n",
       "    .dataframe tbody tr th {\n",
       "        vertical-align: top;\n",
       "    }\n",
       "\n",
       "    .dataframe thead th {\n",
       "        text-align: right;\n",
       "    }\n",
       "</style>\n",
       "<table border=\"1\" class=\"dataframe\">\n",
       "  <thead>\n",
       "    <tr style=\"text-align: right;\">\n",
       "      <th></th>\n",
       "      <th>age</th>\n",
       "      <th>affordibility</th>\n",
       "      <th>insurance</th>\n",
       "    </tr>\n",
       "  </thead>\n",
       "  <tbody>\n",
       "    <tr>\n",
       "      <th>0</th>\n",
       "      <td>21</td>\n",
       "      <td>1</td>\n",
       "      <td>0</td>\n",
       "    </tr>\n",
       "    <tr>\n",
       "      <th>1</th>\n",
       "      <td>25</td>\n",
       "      <td>1</td>\n",
       "      <td>0</td>\n",
       "    </tr>\n",
       "    <tr>\n",
       "      <th>2</th>\n",
       "      <td>31</td>\n",
       "      <td>0</td>\n",
       "      <td>0</td>\n",
       "    </tr>\n",
       "    <tr>\n",
       "      <th>3</th>\n",
       "      <td>50</td>\n",
       "      <td>1</td>\n",
       "      <td>1</td>\n",
       "    </tr>\n",
       "    <tr>\n",
       "      <th>4</th>\n",
       "      <td>41</td>\n",
       "      <td>1</td>\n",
       "      <td>1</td>\n",
       "    </tr>\n",
       "  </tbody>\n",
       "</table>\n",
       "</div>"
      ],
      "text/plain": [
       "   age  affordibility  insurance\n",
       "0   21              1          0\n",
       "1   25              1          0\n",
       "2   31              0          0\n",
       "3   50              1          1\n",
       "4   41              1          1"
      ]
     },
     "execution_count": 81,
     "metadata": {},
     "output_type": "execute_result"
    }
   ],
   "source": [
    "df.head()"
   ]
  },
  {
   "cell_type": "code",
   "execution_count": 82,
   "id": "93fcdaf6",
   "metadata": {},
   "outputs": [],
   "source": [
    "from sklearn.model_selection import train_test_split"
   ]
  },
  {
   "cell_type": "code",
   "execution_count": 83,
   "id": "36ae736c",
   "metadata": {},
   "outputs": [],
   "source": [
    "X_train, X_test, y_train, y_test = train_test_split(df[[\"age\",\"affordibility\"]], df.insurance, test_size=0.20, random_state=42)"
   ]
  },
  {
   "cell_type": "code",
   "execution_count": 84,
   "id": "2eb1a035",
   "metadata": {
    "scrolled": true
   },
   "outputs": [
    {
     "data": {
      "text/plain": [
       "27"
      ]
     },
     "execution_count": 84,
     "metadata": {},
     "output_type": "execute_result"
    }
   ],
   "source": [
    "len(X_train)"
   ]
  },
  {
   "cell_type": "code",
   "execution_count": 85,
   "id": "925f44b6",
   "metadata": {},
   "outputs": [
    {
     "data": {
      "text/html": [
       "<div>\n",
       "<style scoped>\n",
       "    .dataframe tbody tr th:only-of-type {\n",
       "        vertical-align: middle;\n",
       "    }\n",
       "\n",
       "    .dataframe tbody tr th {\n",
       "        vertical-align: top;\n",
       "    }\n",
       "\n",
       "    .dataframe thead th {\n",
       "        text-align: right;\n",
       "    }\n",
       "</style>\n",
       "<table border=\"1\" class=\"dataframe\">\n",
       "  <thead>\n",
       "    <tr style=\"text-align: right;\">\n",
       "      <th></th>\n",
       "      <th>age</th>\n",
       "      <th>affordibility</th>\n",
       "    </tr>\n",
       "  </thead>\n",
       "  <tbody>\n",
       "    <tr>\n",
       "      <th>12</th>\n",
       "      <td>44</td>\n",
       "      <td>0</td>\n",
       "    </tr>\n",
       "    <tr>\n",
       "      <th>32</th>\n",
       "      <td>35</td>\n",
       "      <td>0</td>\n",
       "    </tr>\n",
       "    <tr>\n",
       "      <th>9</th>\n",
       "      <td>23</td>\n",
       "      <td>1</td>\n",
       "    </tr>\n",
       "    <tr>\n",
       "      <th>0</th>\n",
       "      <td>21</td>\n",
       "      <td>1</td>\n",
       "    </tr>\n",
       "    <tr>\n",
       "      <th>4</th>\n",
       "      <td>41</td>\n",
       "      <td>1</td>\n",
       "    </tr>\n",
       "  </tbody>\n",
       "</table>\n",
       "</div>"
      ],
      "text/plain": [
       "    age  affordibility\n",
       "12   44              0\n",
       "32   35              0\n",
       "9    23              1\n",
       "0    21              1\n",
       "4    41              1"
      ]
     },
     "execution_count": 85,
     "metadata": {},
     "output_type": "execute_result"
    }
   ],
   "source": [
    "X_train.head()"
   ]
  },
  {
   "cell_type": "code",
   "execution_count": 86,
   "id": "8729e0fc",
   "metadata": {},
   "outputs": [
    {
     "data": {
      "text/plain": [
       "7"
      ]
     },
     "execution_count": 86,
     "metadata": {},
     "output_type": "execute_result"
    }
   ],
   "source": [
    "len(X_test)"
   ]
  },
  {
   "cell_type": "code",
   "execution_count": 87,
   "id": "f36569dc",
   "metadata": {},
   "outputs": [],
   "source": [
    "X_train_scaled = X_train.copy()\n",
    "X_test_scaled = X_test.copy()\n"
   ]
  },
  {
   "cell_type": "code",
   "execution_count": 88,
   "id": "8c2d69be",
   "metadata": {},
   "outputs": [],
   "source": [
    "X_train_scaled['age'] = X_train_scaled['age']/100\n",
    "X_test_scaled['age'] = X_test_scaled['age']/100"
   ]
  },
  {
   "cell_type": "code",
   "execution_count": 89,
   "id": "46549459",
   "metadata": {},
   "outputs": [
    {
     "data": {
      "text/html": [
       "<div>\n",
       "<style scoped>\n",
       "    .dataframe tbody tr th:only-of-type {\n",
       "        vertical-align: middle;\n",
       "    }\n",
       "\n",
       "    .dataframe tbody tr th {\n",
       "        vertical-align: top;\n",
       "    }\n",
       "\n",
       "    .dataframe thead th {\n",
       "        text-align: right;\n",
       "    }\n",
       "</style>\n",
       "<table border=\"1\" class=\"dataframe\">\n",
       "  <thead>\n",
       "    <tr style=\"text-align: right;\">\n",
       "      <th></th>\n",
       "      <th>age</th>\n",
       "      <th>affordibility</th>\n",
       "    </tr>\n",
       "  </thead>\n",
       "  <tbody>\n",
       "    <tr>\n",
       "      <th>15</th>\n",
       "      <td>0.29</td>\n",
       "      <td>1</td>\n",
       "    </tr>\n",
       "    <tr>\n",
       "      <th>19</th>\n",
       "      <td>0.58</td>\n",
       "      <td>1</td>\n",
       "    </tr>\n",
       "    <tr>\n",
       "      <th>27</th>\n",
       "      <td>0.40</td>\n",
       "      <td>0</td>\n",
       "    </tr>\n",
       "    <tr>\n",
       "      <th>26</th>\n",
       "      <td>0.26</td>\n",
       "      <td>0</td>\n",
       "    </tr>\n",
       "    <tr>\n",
       "      <th>8</th>\n",
       "      <td>0.19</td>\n",
       "      <td>1</td>\n",
       "    </tr>\n",
       "    <tr>\n",
       "      <th>24</th>\n",
       "      <td>0.21</td>\n",
       "      <td>1</td>\n",
       "    </tr>\n",
       "    <tr>\n",
       "      <th>21</th>\n",
       "      <td>0.39</td>\n",
       "      <td>0</td>\n",
       "    </tr>\n",
       "  </tbody>\n",
       "</table>\n",
       "</div>"
      ],
      "text/plain": [
       "     age  affordibility\n",
       "15  0.29              1\n",
       "19  0.58              1\n",
       "27  0.40              0\n",
       "26  0.26              0\n",
       "8   0.19              1\n",
       "24  0.21              1\n",
       "21  0.39              0"
      ]
     },
     "execution_count": 89,
     "metadata": {},
     "output_type": "execute_result"
    }
   ],
   "source": [
    "X_test_scaled"
   ]
  },
  {
   "cell_type": "code",
   "execution_count": 90,
   "id": "739be134",
   "metadata": {},
   "outputs": [],
   "source": [
    "model = keras.Sequential([\n",
    "    keras.layers.Dense(1,input_shape=(2,),\n",
    "    activation = 'sigmoid',\n",
    "    kernel_initializer = 'ones',\n",
    "    bias_initializer = 'zeros')\n",
    "    \n",
    "])"
   ]
  },
  {
   "cell_type": "code",
   "execution_count": 91,
   "id": "025e49fd",
   "metadata": {},
   "outputs": [],
   "source": [
    "model.compile(optimizer = 'adam',loss = 'binary_crossentropy',metrics = ['accuracy'])"
   ]
  },
  {
   "cell_type": "code",
   "execution_count": 92,
   "id": "636dbbf5",
   "metadata": {},
   "outputs": [
    {
     "name": "stdout",
     "output_type": "stream",
     "text": [
      "Epoch 1/388\n",
      "1/1 [==============================] - 0s 278ms/step - loss: 0.7911 - accuracy: 0.4815\n",
      "Epoch 2/388\n",
      "1/1 [==============================] - 0s 4ms/step - loss: 0.7907 - accuracy: 0.4815\n",
      "Epoch 3/388\n",
      "1/1 [==============================] - 0s 3ms/step - loss: 0.7903 - accuracy: 0.4815\n",
      "Epoch 4/388\n",
      "1/1 [==============================] - 0s 4ms/step - loss: 0.7898 - accuracy: 0.4815\n",
      "Epoch 5/388\n",
      "1/1 [==============================] - 0s 6ms/step - loss: 0.7894 - accuracy: 0.4815\n",
      "Epoch 6/388\n",
      "1/1 [==============================] - 0s 5ms/step - loss: 0.7890 - accuracy: 0.4815\n",
      "Epoch 7/388\n",
      "1/1 [==============================] - 0s 4ms/step - loss: 0.7885 - accuracy: 0.4815\n",
      "Epoch 8/388\n",
      "1/1 [==============================] - 0s 7ms/step - loss: 0.7881 - accuracy: 0.4815\n",
      "Epoch 9/388\n",
      "1/1 [==============================] - 0s 4ms/step - loss: 0.7877 - accuracy: 0.4815\n",
      "Epoch 10/388\n",
      "1/1 [==============================] - 0s 6ms/step - loss: 0.7873 - accuracy: 0.4815\n",
      "Epoch 11/388\n",
      "1/1 [==============================] - 0s 4ms/step - loss: 0.7868 - accuracy: 0.4815\n",
      "Epoch 12/388\n",
      "1/1 [==============================] - 0s 3ms/step - loss: 0.7864 - accuracy: 0.4815\n",
      "Epoch 13/388\n",
      "1/1 [==============================] - 0s 4ms/step - loss: 0.7860 - accuracy: 0.4815\n",
      "Epoch 14/388\n",
      "1/1 [==============================] - 0s 5ms/step - loss: 0.7855 - accuracy: 0.4815\n",
      "Epoch 15/388\n",
      "1/1 [==============================] - 0s 5ms/step - loss: 0.7851 - accuracy: 0.4815\n",
      "Epoch 16/388\n",
      "1/1 [==============================] - 0s 5ms/step - loss: 0.7847 - accuracy: 0.4815\n",
      "Epoch 17/388\n",
      "1/1 [==============================] - 0s 4ms/step - loss: 0.7843 - accuracy: 0.4815\n",
      "Epoch 18/388\n",
      "1/1 [==============================] - 0s 3ms/step - loss: 0.7839 - accuracy: 0.4815\n",
      "Epoch 19/388\n",
      "1/1 [==============================] - 0s 7ms/step - loss: 0.7834 - accuracy: 0.4815\n",
      "Epoch 20/388\n",
      "1/1 [==============================] - 0s 3ms/step - loss: 0.7830 - accuracy: 0.4815\n",
      "Epoch 21/388\n",
      "1/1 [==============================] - 0s 6ms/step - loss: 0.7826 - accuracy: 0.4815\n",
      "Epoch 22/388\n",
      "1/1 [==============================] - 0s 3ms/step - loss: 0.7822 - accuracy: 0.4815\n",
      "Epoch 23/388\n",
      "1/1 [==============================] - 0s 2ms/step - loss: 0.7818 - accuracy: 0.4815\n",
      "Epoch 24/388\n",
      "1/1 [==============================] - 0s 5ms/step - loss: 0.7814 - accuracy: 0.4815\n",
      "Epoch 25/388\n",
      "1/1 [==============================] - 0s 2ms/step - loss: 0.7809 - accuracy: 0.4815\n",
      "Epoch 26/388\n",
      "1/1 [==============================] - 0s 4ms/step - loss: 0.7805 - accuracy: 0.4815\n",
      "Epoch 27/388\n",
      "1/1 [==============================] - 0s 2ms/step - loss: 0.7801 - accuracy: 0.4815\n",
      "Epoch 28/388\n",
      "1/1 [==============================] - 0s 6ms/step - loss: 0.7797 - accuracy: 0.4815\n",
      "Epoch 29/388\n",
      "1/1 [==============================] - 0s 5ms/step - loss: 0.7793 - accuracy: 0.4815\n",
      "Epoch 30/388\n",
      "1/1 [==============================] - 0s 3ms/step - loss: 0.7789 - accuracy: 0.4815\n",
      "Epoch 31/388\n",
      "1/1 [==============================] - 0s 6ms/step - loss: 0.7785 - accuracy: 0.4815\n",
      "Epoch 32/388\n",
      "1/1 [==============================] - 0s 4ms/step - loss: 0.7781 - accuracy: 0.4815\n",
      "Epoch 33/388\n",
      "1/1 [==============================] - 0s 4ms/step - loss: 0.7777 - accuracy: 0.4815\n",
      "Epoch 34/388\n",
      "1/1 [==============================] - 0s 3ms/step - loss: 0.7773 - accuracy: 0.4815\n",
      "Epoch 35/388\n",
      "1/1 [==============================] - 0s 3ms/step - loss: 0.7769 - accuracy: 0.4815\n",
      "Epoch 36/388\n",
      "1/1 [==============================] - 0s 7ms/step - loss: 0.7765 - accuracy: 0.4815\n",
      "Epoch 37/388\n",
      "1/1 [==============================] - 0s 3ms/step - loss: 0.7761 - accuracy: 0.4815\n",
      "Epoch 38/388\n",
      "1/1 [==============================] - 0s 4ms/step - loss: 0.7757 - accuracy: 0.4815\n",
      "Epoch 39/388\n",
      "1/1 [==============================] - 0s 4ms/step - loss: 0.7753 - accuracy: 0.4815\n",
      "Epoch 40/388\n",
      "1/1 [==============================] - 0s 3ms/step - loss: 0.7749 - accuracy: 0.4815\n",
      "Epoch 41/388\n",
      "1/1 [==============================] - 0s 9ms/step - loss: 0.7745 - accuracy: 0.4815\n",
      "Epoch 42/388\n",
      "1/1 [==============================] - 0s 3ms/step - loss: 0.7741 - accuracy: 0.4815\n",
      "Epoch 43/388\n",
      "1/1 [==============================] - 0s 4ms/step - loss: 0.7737 - accuracy: 0.4815\n",
      "Epoch 44/388\n",
      "1/1 [==============================] - 0s 4ms/step - loss: 0.7733 - accuracy: 0.4815\n",
      "Epoch 45/388\n",
      "1/1 [==============================] - 0s 6ms/step - loss: 0.7729 - accuracy: 0.4815\n",
      "Epoch 46/388\n",
      "1/1 [==============================] - 0s 3ms/step - loss: 0.7725 - accuracy: 0.4815\n",
      "Epoch 47/388\n",
      "1/1 [==============================] - 0s 4ms/step - loss: 0.7721 - accuracy: 0.4815\n",
      "Epoch 48/388\n",
      "1/1 [==============================] - 0s 3ms/step - loss: 0.7717 - accuracy: 0.4815\n",
      "Epoch 49/388\n",
      "1/1 [==============================] - 0s 4ms/step - loss: 0.7713 - accuracy: 0.4815\n",
      "Epoch 50/388\n",
      "1/1 [==============================] - 0s 2ms/step - loss: 0.7709 - accuracy: 0.4815\n",
      "Epoch 51/388\n",
      "1/1 [==============================] - 0s 3ms/step - loss: 0.7705 - accuracy: 0.4815\n",
      "Epoch 52/388\n",
      "1/1 [==============================] - 0s 2ms/step - loss: 0.7701 - accuracy: 0.4815\n",
      "Epoch 53/388\n",
      "1/1 [==============================] - 0s 3ms/step - loss: 0.7698 - accuracy: 0.4815\n",
      "Epoch 54/388\n",
      "1/1 [==============================] - 0s 3ms/step - loss: 0.7694 - accuracy: 0.4815\n",
      "Epoch 55/388\n",
      "1/1 [==============================] - 0s 3ms/step - loss: 0.7690 - accuracy: 0.4815\n",
      "Epoch 56/388\n",
      "1/1 [==============================] - 0s 5ms/step - loss: 0.7686 - accuracy: 0.4815\n",
      "Epoch 57/388\n",
      "1/1 [==============================] - 0s 3ms/step - loss: 0.7682 - accuracy: 0.4815\n",
      "Epoch 58/388\n",
      "1/1 [==============================] - 0s 4ms/step - loss: 0.7678 - accuracy: 0.4815\n",
      "Epoch 59/388\n",
      "1/1 [==============================] - 0s 5ms/step - loss: 0.7675 - accuracy: 0.4815\n",
      "Epoch 60/388\n",
      "1/1 [==============================] - 0s 4ms/step - loss: 0.7671 - accuracy: 0.4815\n",
      "Epoch 61/388\n",
      "1/1 [==============================] - 0s 5ms/step - loss: 0.7667 - accuracy: 0.4815\n",
      "Epoch 62/388\n",
      "1/1 [==============================] - 0s 6ms/step - loss: 0.7663 - accuracy: 0.4815\n",
      "Epoch 63/388\n",
      "1/1 [==============================] - 0s 4ms/step - loss: 0.7660 - accuracy: 0.4815\n",
      "Epoch 64/388\n",
      "1/1 [==============================] - 0s 5ms/step - loss: 0.7656 - accuracy: 0.4815\n",
      "Epoch 65/388\n",
      "1/1 [==============================] - 0s 5ms/step - loss: 0.7652 - accuracy: 0.4815\n",
      "Epoch 66/388\n",
      "1/1 [==============================] - 0s 7ms/step - loss: 0.7648 - accuracy: 0.4815\n",
      "Epoch 67/388\n",
      "1/1 [==============================] - 0s 4ms/step - loss: 0.7645 - accuracy: 0.4815\n",
      "Epoch 68/388\n",
      "1/1 [==============================] - 0s 7ms/step - loss: 0.7641 - accuracy: 0.4815\n",
      "Epoch 69/388\n",
      "1/1 [==============================] - 0s 5ms/step - loss: 0.7637 - accuracy: 0.4815\n",
      "Epoch 70/388\n",
      "1/1 [==============================] - 0s 5ms/step - loss: 0.7634 - accuracy: 0.4815\n",
      "Epoch 71/388\n",
      "1/1 [==============================] - 0s 5ms/step - loss: 0.7630 - accuracy: 0.4815\n",
      "Epoch 72/388\n",
      "1/1 [==============================] - 0s 5ms/step - loss: 0.7626 - accuracy: 0.4815\n",
      "Epoch 73/388\n",
      "1/1 [==============================] - 0s 5ms/step - loss: 0.7623 - accuracy: 0.4815\n",
      "Epoch 74/388\n",
      "1/1 [==============================] - 0s 2ms/step - loss: 0.7619 - accuracy: 0.4815\n",
      "Epoch 75/388\n",
      "1/1 [==============================] - 0s 3ms/step - loss: 0.7615 - accuracy: 0.4815\n",
      "Epoch 76/388\n",
      "1/1 [==============================] - 0s 6ms/step - loss: 0.7612 - accuracy: 0.4815\n",
      "Epoch 77/388\n",
      "1/1 [==============================] - 0s 2ms/step - loss: 0.7608 - accuracy: 0.4815\n",
      "Epoch 78/388\n",
      "1/1 [==============================] - 0s 4ms/step - loss: 0.7604 - accuracy: 0.4815\n",
      "Epoch 79/388\n",
      "1/1 [==============================] - 0s 3ms/step - loss: 0.7601 - accuracy: 0.4815\n",
      "Epoch 80/388\n",
      "1/1 [==============================] - 0s 4ms/step - loss: 0.7597 - accuracy: 0.4815\n",
      "Epoch 81/388\n",
      "1/1 [==============================] - 0s 5ms/step - loss: 0.7594 - accuracy: 0.4815\n",
      "Epoch 82/388\n",
      "1/1 [==============================] - 0s 3ms/step - loss: 0.7590 - accuracy: 0.4815\n",
      "Epoch 83/388\n",
      "1/1 [==============================] - 0s 4ms/step - loss: 0.7587 - accuracy: 0.4815\n",
      "Epoch 84/388\n"
     ]
    },
    {
     "name": "stdout",
     "output_type": "stream",
     "text": [
      "1/1 [==============================] - 0s 4ms/step - loss: 0.7583 - accuracy: 0.4815\n",
      "Epoch 85/388\n",
      "1/1 [==============================] - 0s 4ms/step - loss: 0.7579 - accuracy: 0.4815\n",
      "Epoch 86/388\n",
      "1/1 [==============================] - 0s 6ms/step - loss: 0.7576 - accuracy: 0.4815\n",
      "Epoch 87/388\n",
      "1/1 [==============================] - 0s 2ms/step - loss: 0.7572 - accuracy: 0.4815\n",
      "Epoch 88/388\n",
      "1/1 [==============================] - 0s 6ms/step - loss: 0.7569 - accuracy: 0.4815\n",
      "Epoch 89/388\n",
      "1/1 [==============================] - 0s 4ms/step - loss: 0.7565 - accuracy: 0.4815\n",
      "Epoch 90/388\n",
      "1/1 [==============================] - 0s 4ms/step - loss: 0.7562 - accuracy: 0.4815\n",
      "Epoch 91/388\n",
      "1/1 [==============================] - 0s 5ms/step - loss: 0.7558 - accuracy: 0.4815\n",
      "Epoch 92/388\n",
      "1/1 [==============================] - 0s 4ms/step - loss: 0.7555 - accuracy: 0.4815\n",
      "Epoch 93/388\n",
      "1/1 [==============================] - 0s 5ms/step - loss: 0.7552 - accuracy: 0.4815\n",
      "Epoch 94/388\n",
      "1/1 [==============================] - 0s 4ms/step - loss: 0.7548 - accuracy: 0.4815\n",
      "Epoch 95/388\n",
      "1/1 [==============================] - 0s 4ms/step - loss: 0.7545 - accuracy: 0.4815\n",
      "Epoch 96/388\n",
      "1/1 [==============================] - 0s 5ms/step - loss: 0.7541 - accuracy: 0.4815\n",
      "Epoch 97/388\n",
      "1/1 [==============================] - 0s 4ms/step - loss: 0.7538 - accuracy: 0.4815\n",
      "Epoch 98/388\n",
      "1/1 [==============================] - 0s 6ms/step - loss: 0.7534 - accuracy: 0.4815\n",
      "Epoch 99/388\n",
      "1/1 [==============================] - 0s 5ms/step - loss: 0.7531 - accuracy: 0.4815\n",
      "Epoch 100/388\n",
      "1/1 [==============================] - 0s 6ms/step - loss: 0.7528 - accuracy: 0.4815\n",
      "Epoch 101/388\n",
      "1/1 [==============================] - 0s 3ms/step - loss: 0.7524 - accuracy: 0.4815\n",
      "Epoch 102/388\n",
      "1/1 [==============================] - 0s 3ms/step - loss: 0.7521 - accuracy: 0.4815\n",
      "Epoch 103/388\n",
      "1/1 [==============================] - 0s 6ms/step - loss: 0.7518 - accuracy: 0.4815\n",
      "Epoch 104/388\n",
      "1/1 [==============================] - 0s 4ms/step - loss: 0.7514 - accuracy: 0.4815\n",
      "Epoch 105/388\n",
      "1/1 [==============================] - 0s 1ms/step - loss: 0.7511 - accuracy: 0.4815\n",
      "Epoch 106/388\n",
      "1/1 [==============================] - 0s 3ms/step - loss: 0.7508 - accuracy: 0.4815\n",
      "Epoch 107/388\n",
      "1/1 [==============================] - 0s 7ms/step - loss: 0.7504 - accuracy: 0.4815\n",
      "Epoch 108/388\n",
      "1/1 [==============================] - 0s 5ms/step - loss: 0.7501 - accuracy: 0.4815\n",
      "Epoch 109/388\n",
      "1/1 [==============================] - 0s 3ms/step - loss: 0.7498 - accuracy: 0.4815\n",
      "Epoch 110/388\n",
      "1/1 [==============================] - 0s 3ms/step - loss: 0.7494 - accuracy: 0.4815\n",
      "Epoch 111/388\n",
      "1/1 [==============================] - 0s 3ms/step - loss: 0.7491 - accuracy: 0.4815\n",
      "Epoch 112/388\n",
      "1/1 [==============================] - 0s 4ms/step - loss: 0.7488 - accuracy: 0.4815\n",
      "Epoch 113/388\n",
      "1/1 [==============================] - 0s 4ms/step - loss: 0.7484 - accuracy: 0.4815\n",
      "Epoch 114/388\n",
      "1/1 [==============================] - 0s 4ms/step - loss: 0.7481 - accuracy: 0.4815\n",
      "Epoch 115/388\n",
      "1/1 [==============================] - 0s 2ms/step - loss: 0.7478 - accuracy: 0.4815\n",
      "Epoch 116/388\n",
      "1/1 [==============================] - 0s 2ms/step - loss: 0.7475 - accuracy: 0.4815\n",
      "Epoch 117/388\n",
      "1/1 [==============================] - 0s 6ms/step - loss: 0.7472 - accuracy: 0.4815\n",
      "Epoch 118/388\n",
      "1/1 [==============================] - 0s 6ms/step - loss: 0.7468 - accuracy: 0.4815\n",
      "Epoch 119/388\n",
      "1/1 [==============================] - 0s 4ms/step - loss: 0.7465 - accuracy: 0.4815\n",
      "Epoch 120/388\n",
      "1/1 [==============================] - 0s 3ms/step - loss: 0.7462 - accuracy: 0.4815\n",
      "Epoch 121/388\n",
      "1/1 [==============================] - 0s 4ms/step - loss: 0.7459 - accuracy: 0.4815\n",
      "Epoch 122/388\n",
      "1/1 [==============================] - 0s 6ms/step - loss: 0.7456 - accuracy: 0.4815\n",
      "Epoch 123/388\n",
      "1/1 [==============================] - 0s 5ms/step - loss: 0.7452 - accuracy: 0.4815\n",
      "Epoch 124/388\n",
      "1/1 [==============================] - 0s 4ms/step - loss: 0.7449 - accuracy: 0.4815\n",
      "Epoch 125/388\n",
      "1/1 [==============================] - 0s 5ms/step - loss: 0.7446 - accuracy: 0.4815\n",
      "Epoch 126/388\n",
      "1/1 [==============================] - 0s 3ms/step - loss: 0.7443 - accuracy: 0.4815\n",
      "Epoch 127/388\n",
      "1/1 [==============================] - 0s 4ms/step - loss: 0.7440 - accuracy: 0.4815\n",
      "Epoch 128/388\n",
      "1/1 [==============================] - 0s 4ms/step - loss: 0.7437 - accuracy: 0.4815\n",
      "Epoch 129/388\n",
      "1/1 [==============================] - 0s 4ms/step - loss: 0.7434 - accuracy: 0.4815\n",
      "Epoch 130/388\n",
      "1/1 [==============================] - 0s 7ms/step - loss: 0.7430 - accuracy: 0.4815\n",
      "Epoch 131/388\n",
      "1/1 [==============================] - 0s 4ms/step - loss: 0.7427 - accuracy: 0.4815\n",
      "Epoch 132/388\n",
      "1/1 [==============================] - 0s 4ms/step - loss: 0.7424 - accuracy: 0.4815\n",
      "Epoch 133/388\n",
      "1/1 [==============================] - 0s 4ms/step - loss: 0.7421 - accuracy: 0.4815\n",
      "Epoch 134/388\n",
      "1/1 [==============================] - 0s 2ms/step - loss: 0.7418 - accuracy: 0.4815\n",
      "Epoch 135/388\n",
      "1/1 [==============================] - 0s 5ms/step - loss: 0.7415 - accuracy: 0.4815\n",
      "Epoch 136/388\n",
      "1/1 [==============================] - 0s 4ms/step - loss: 0.7412 - accuracy: 0.4815\n",
      "Epoch 137/388\n",
      "1/1 [==============================] - 0s 9ms/step - loss: 0.7409 - accuracy: 0.4815\n",
      "Epoch 138/388\n",
      "1/1 [==============================] - 0s 4ms/step - loss: 0.7406 - accuracy: 0.4815\n",
      "Epoch 139/388\n",
      "1/1 [==============================] - 0s 7ms/step - loss: 0.7403 - accuracy: 0.4815\n",
      "Epoch 140/388\n",
      "1/1 [==============================] - 0s 6ms/step - loss: 0.7400 - accuracy: 0.4815\n",
      "Epoch 141/388\n",
      "1/1 [==============================] - 0s 6ms/step - loss: 0.7397 - accuracy: 0.4815\n",
      "Epoch 142/388\n",
      "1/1 [==============================] - 0s 5ms/step - loss: 0.7394 - accuracy: 0.4815\n",
      "Epoch 143/388\n",
      "1/1 [==============================] - 0s 6ms/step - loss: 0.7391 - accuracy: 0.4815\n",
      "Epoch 144/388\n",
      "1/1 [==============================] - 0s 4ms/step - loss: 0.7388 - accuracy: 0.4815\n",
      "Epoch 145/388\n",
      "1/1 [==============================] - 0s 5ms/step - loss: 0.7385 - accuracy: 0.4815\n",
      "Epoch 146/388\n",
      "1/1 [==============================] - 0s 4ms/step - loss: 0.7382 - accuracy: 0.4815\n",
      "Epoch 147/388\n",
      "1/1 [==============================] - 0s 5ms/step - loss: 0.7379 - accuracy: 0.4815\n",
      "Epoch 148/388\n",
      "1/1 [==============================] - 0s 3ms/step - loss: 0.7376 - accuracy: 0.4815\n",
      "Epoch 149/388\n",
      "1/1 [==============================] - 0s 5ms/step - loss: 0.7373 - accuracy: 0.4815\n",
      "Epoch 150/388\n",
      "1/1 [==============================] - 0s 6ms/step - loss: 0.7370 - accuracy: 0.4815\n",
      "Epoch 151/388\n",
      "1/1 [==============================] - 0s 3ms/step - loss: 0.7367 - accuracy: 0.4815\n",
      "Epoch 152/388\n",
      "1/1 [==============================] - 0s 4ms/step - loss: 0.7364 - accuracy: 0.4815\n",
      "Epoch 153/388\n",
      "1/1 [==============================] - 0s 4ms/step - loss: 0.7361 - accuracy: 0.4815\n",
      "Epoch 154/388\n",
      "1/1 [==============================] - 0s 2ms/step - loss: 0.7359 - accuracy: 0.4815\n",
      "Epoch 155/388\n",
      "1/1 [==============================] - 0s 3ms/step - loss: 0.7356 - accuracy: 0.4815\n",
      "Epoch 156/388\n",
      "1/1 [==============================] - 0s 4ms/step - loss: 0.7353 - accuracy: 0.4815\n",
      "Epoch 157/388\n",
      "1/1 [==============================] - 0s 5ms/step - loss: 0.7350 - accuracy: 0.4815\n",
      "Epoch 158/388\n",
      "1/1 [==============================] - 0s 3ms/step - loss: 0.7347 - accuracy: 0.4815\n",
      "Epoch 159/388\n",
      "1/1 [==============================] - 0s 5ms/step - loss: 0.7344 - accuracy: 0.5185\n",
      "Epoch 160/388\n",
      "1/1 [==============================] - 0s 5ms/step - loss: 0.7341 - accuracy: 0.5185\n",
      "Epoch 161/388\n",
      "1/1 [==============================] - 0s 2ms/step - loss: 0.7339 - accuracy: 0.5185\n",
      "Epoch 162/388\n",
      "1/1 [==============================] - 0s 3ms/step - loss: 0.7336 - accuracy: 0.5185\n",
      "Epoch 163/388\n",
      "1/1 [==============================] - 0s 3ms/step - loss: 0.7333 - accuracy: 0.5185\n",
      "Epoch 164/388\n",
      "1/1 [==============================] - 0s 4ms/step - loss: 0.7330 - accuracy: 0.5185\n",
      "Epoch 165/388\n",
      "1/1 [==============================] - 0s 6ms/step - loss: 0.7327 - accuracy: 0.5185\n",
      "Epoch 166/388\n",
      "1/1 [==============================] - 0s 4ms/step - loss: 0.7324 - accuracy: 0.5185\n",
      "Epoch 167/388\n"
     ]
    },
    {
     "name": "stdout",
     "output_type": "stream",
     "text": [
      "1/1 [==============================] - 0s 8ms/step - loss: 0.7322 - accuracy: 0.5185\n",
      "Epoch 168/388\n",
      "1/1 [==============================] - 0s 4ms/step - loss: 0.7319 - accuracy: 0.5556\n",
      "Epoch 169/388\n",
      "1/1 [==============================] - 0s 7ms/step - loss: 0.7316 - accuracy: 0.5556\n",
      "Epoch 170/388\n",
      "1/1 [==============================] - 0s 3ms/step - loss: 0.7313 - accuracy: 0.5556\n",
      "Epoch 171/388\n",
      "1/1 [==============================] - 0s 2ms/step - loss: 0.7311 - accuracy: 0.5556\n",
      "Epoch 172/388\n",
      "1/1 [==============================] - 0s 3ms/step - loss: 0.7308 - accuracy: 0.5556\n",
      "Epoch 173/388\n",
      "1/1 [==============================] - 0s 3ms/step - loss: 0.7305 - accuracy: 0.5556\n",
      "Epoch 174/388\n",
      "1/1 [==============================] - 0s 2ms/step - loss: 0.7302 - accuracy: 0.5556\n",
      "Epoch 175/388\n",
      "1/1 [==============================] - 0s 3ms/step - loss: 0.7300 - accuracy: 0.5556\n",
      "Epoch 176/388\n",
      "1/1 [==============================] - 0s 3ms/step - loss: 0.7297 - accuracy: 0.5556\n",
      "Epoch 177/388\n",
      "1/1 [==============================] - 0s 3ms/step - loss: 0.7294 - accuracy: 0.5556\n",
      "Epoch 178/388\n",
      "1/1 [==============================] - 0s 2ms/step - loss: 0.7292 - accuracy: 0.5556\n",
      "Epoch 179/388\n",
      "1/1 [==============================] - 0s 2ms/step - loss: 0.7289 - accuracy: 0.5556\n",
      "Epoch 180/388\n",
      "1/1 [==============================] - 0s 2ms/step - loss: 0.7286 - accuracy: 0.5556\n",
      "Epoch 181/388\n",
      "1/1 [==============================] - 0s 3ms/step - loss: 0.7284 - accuracy: 0.5556\n",
      "Epoch 182/388\n",
      "1/1 [==============================] - 0s 3ms/step - loss: 0.7281 - accuracy: 0.5556\n",
      "Epoch 183/388\n",
      "1/1 [==============================] - 0s 6ms/step - loss: 0.7278 - accuracy: 0.5556\n",
      "Epoch 184/388\n",
      "1/1 [==============================] - 0s 3ms/step - loss: 0.7276 - accuracy: 0.5556\n",
      "Epoch 185/388\n",
      "1/1 [==============================] - 0s 2ms/step - loss: 0.7273 - accuracy: 0.5556\n",
      "Epoch 186/388\n",
      "1/1 [==============================] - 0s 3ms/step - loss: 0.7270 - accuracy: 0.5556\n",
      "Epoch 187/388\n",
      "1/1 [==============================] - 0s 2ms/step - loss: 0.7268 - accuracy: 0.5556\n",
      "Epoch 188/388\n",
      "1/1 [==============================] - 0s 7ms/step - loss: 0.7265 - accuracy: 0.5556\n",
      "Epoch 189/388\n",
      "1/1 [==============================] - 0s 5ms/step - loss: 0.7262 - accuracy: 0.5556\n",
      "Epoch 190/388\n",
      "1/1 [==============================] - 0s 2ms/step - loss: 0.7260 - accuracy: 0.5556\n",
      "Epoch 191/388\n",
      "1/1 [==============================] - 0s 3ms/step - loss: 0.7257 - accuracy: 0.5556\n",
      "Epoch 192/388\n",
      "1/1 [==============================] - 0s 2ms/step - loss: 0.7255 - accuracy: 0.5556\n",
      "Epoch 193/388\n",
      "1/1 [==============================] - 0s 7ms/step - loss: 0.7252 - accuracy: 0.5556\n",
      "Epoch 194/388\n",
      "1/1 [==============================] - 0s 4ms/step - loss: 0.7249 - accuracy: 0.5556\n",
      "Epoch 195/388\n",
      "1/1 [==============================] - 0s 2ms/step - loss: 0.7247 - accuracy: 0.5556\n",
      "Epoch 196/388\n",
      "1/1 [==============================] - 0s 5ms/step - loss: 0.7244 - accuracy: 0.5556\n",
      "Epoch 197/388\n",
      "1/1 [==============================] - 0s 3ms/step - loss: 0.7242 - accuracy: 0.5556\n",
      "Epoch 198/388\n",
      "1/1 [==============================] - 0s 3ms/step - loss: 0.7239 - accuracy: 0.5556\n",
      "Epoch 199/388\n",
      "1/1 [==============================] - 0s 3ms/step - loss: 0.7237 - accuracy: 0.5556\n",
      "Epoch 200/388\n",
      "1/1 [==============================] - 0s 3ms/step - loss: 0.7234 - accuracy: 0.5556\n",
      "Epoch 201/388\n",
      "1/1 [==============================] - 0s 3ms/step - loss: 0.7232 - accuracy: 0.5556\n",
      "Epoch 202/388\n",
      "1/1 [==============================] - 0s 3ms/step - loss: 0.7229 - accuracy: 0.5556\n",
      "Epoch 203/388\n",
      "1/1 [==============================] - 0s 2ms/step - loss: 0.7227 - accuracy: 0.5556\n",
      "Epoch 204/388\n",
      "1/1 [==============================] - 0s 4ms/step - loss: 0.7224 - accuracy: 0.5556\n",
      "Epoch 205/388\n",
      "1/1 [==============================] - 0s 3ms/step - loss: 0.7222 - accuracy: 0.5556\n",
      "Epoch 206/388\n",
      "1/1 [==============================] - 0s 2ms/step - loss: 0.7219 - accuracy: 0.5556\n",
      "Epoch 207/388\n",
      "1/1 [==============================] - 0s 5ms/step - loss: 0.7217 - accuracy: 0.5556\n",
      "Epoch 208/388\n",
      "1/1 [==============================] - 0s 2ms/step - loss: 0.7214 - accuracy: 0.5556\n",
      "Epoch 209/388\n",
      "1/1 [==============================] - 0s 3ms/step - loss: 0.7212 - accuracy: 0.5556\n",
      "Epoch 210/388\n",
      "1/1 [==============================] - 0s 4ms/step - loss: 0.7209 - accuracy: 0.5556\n",
      "Epoch 211/388\n",
      "1/1 [==============================] - 0s 4ms/step - loss: 0.7207 - accuracy: 0.5556\n",
      "Epoch 212/388\n",
      "1/1 [==============================] - 0s 2ms/step - loss: 0.7204 - accuracy: 0.5556\n",
      "Epoch 213/388\n",
      "1/1 [==============================] - 0s 7ms/step - loss: 0.7202 - accuracy: 0.5556\n",
      "Epoch 214/388\n",
      "1/1 [==============================] - 0s 4ms/step - loss: 0.7199 - accuracy: 0.5556\n",
      "Epoch 215/388\n",
      "1/1 [==============================] - 0s 3ms/step - loss: 0.7197 - accuracy: 0.5556\n",
      "Epoch 216/388\n",
      "1/1 [==============================] - 0s 5ms/step - loss: 0.7195 - accuracy: 0.5556\n",
      "Epoch 217/388\n",
      "1/1 [==============================] - 0s 2ms/step - loss: 0.7192 - accuracy: 0.5556\n",
      "Epoch 218/388\n",
      "1/1 [==============================] - 0s 2ms/step - loss: 0.7190 - accuracy: 0.5556\n",
      "Epoch 219/388\n",
      "1/1 [==============================] - 0s 4ms/step - loss: 0.7187 - accuracy: 0.5556\n",
      "Epoch 220/388\n",
      "1/1 [==============================] - 0s 3ms/step - loss: 0.7185 - accuracy: 0.5556\n",
      "Epoch 221/388\n",
      "1/1 [==============================] - 0s 4ms/step - loss: 0.7183 - accuracy: 0.5556\n",
      "Epoch 222/388\n",
      "1/1 [==============================] - 0s 4ms/step - loss: 0.7180 - accuracy: 0.5556\n",
      "Epoch 223/388\n",
      "1/1 [==============================] - 0s 2ms/step - loss: 0.7178 - accuracy: 0.5556\n",
      "Epoch 224/388\n",
      "1/1 [==============================] - 0s 3ms/step - loss: 0.7175 - accuracy: 0.5556\n",
      "Epoch 225/388\n",
      "1/1 [==============================] - 0s 2ms/step - loss: 0.7173 - accuracy: 0.5556\n",
      "Epoch 226/388\n",
      "1/1 [==============================] - 0s 2ms/step - loss: 0.7171 - accuracy: 0.5556\n",
      "Epoch 227/388\n",
      "1/1 [==============================] - 0s 2ms/step - loss: 0.7168 - accuracy: 0.5556\n",
      "Epoch 228/388\n",
      "1/1 [==============================] - 0s 2ms/step - loss: 0.7166 - accuracy: 0.5556\n",
      "Epoch 229/388\n",
      "1/1 [==============================] - 0s 4ms/step - loss: 0.7164 - accuracy: 0.5556\n",
      "Epoch 230/388\n",
      "1/1 [==============================] - 0s 4ms/step - loss: 0.7161 - accuracy: 0.5556\n",
      "Epoch 231/388\n",
      "1/1 [==============================] - 0s 3ms/step - loss: 0.7159 - accuracy: 0.5556\n",
      "Epoch 232/388\n",
      "1/1 [==============================] - 0s 3ms/step - loss: 0.7157 - accuracy: 0.5556\n",
      "Epoch 233/388\n",
      "1/1 [==============================] - 0s 4ms/step - loss: 0.7154 - accuracy: 0.5556\n",
      "Epoch 234/388\n",
      "1/1 [==============================] - 0s 2ms/step - loss: 0.7152 - accuracy: 0.5556\n",
      "Epoch 235/388\n",
      "1/1 [==============================] - 0s 2ms/step - loss: 0.7150 - accuracy: 0.5556\n",
      "Epoch 236/388\n",
      "1/1 [==============================] - 0s 4ms/step - loss: 0.7147 - accuracy: 0.5926\n",
      "Epoch 237/388\n",
      "1/1 [==============================] - 0s 2ms/step - loss: 0.7145 - accuracy: 0.5926\n",
      "Epoch 238/388\n",
      "1/1 [==============================] - 0s 2ms/step - loss: 0.7143 - accuracy: 0.5926\n",
      "Epoch 239/388\n",
      "1/1 [==============================] - 0s 4ms/step - loss: 0.7141 - accuracy: 0.5926\n",
      "Epoch 240/388\n",
      "1/1 [==============================] - 0s 2ms/step - loss: 0.7138 - accuracy: 0.5926\n",
      "Epoch 241/388\n",
      "1/1 [==============================] - 0s 2ms/step - loss: 0.7136 - accuracy: 0.5926\n",
      "Epoch 242/388\n",
      "1/1 [==============================] - 0s 2ms/step - loss: 0.7134 - accuracy: 0.5926\n",
      "Epoch 243/388\n",
      "1/1 [==============================] - 0s 2ms/step - loss: 0.7132 - accuracy: 0.5926\n",
      "Epoch 244/388\n",
      "1/1 [==============================] - 0s 3ms/step - loss: 0.7129 - accuracy: 0.5926\n",
      "Epoch 245/388\n",
      "1/1 [==============================] - 0s 5ms/step - loss: 0.7127 - accuracy: 0.5926\n",
      "Epoch 246/388\n",
      "1/1 [==============================] - 0s 33ms/step - loss: 0.7125 - accuracy: 0.5926\n",
      "Epoch 247/388\n",
      "1/1 [==============================] - 0s 5ms/step - loss: 0.7123 - accuracy: 0.5926\n",
      "Epoch 248/388\n",
      "1/1 [==============================] - 0s 3ms/step - loss: 0.7120 - accuracy: 0.5926\n",
      "Epoch 249/388\n"
     ]
    },
    {
     "name": "stdout",
     "output_type": "stream",
     "text": [
      "1/1 [==============================] - 0s 3ms/step - loss: 0.7118 - accuracy: 0.5926\n",
      "Epoch 250/388\n",
      "1/1 [==============================] - 0s 4ms/step - loss: 0.7116 - accuracy: 0.5926\n",
      "Epoch 251/388\n",
      "1/1 [==============================] - 0s 8ms/step - loss: 0.7114 - accuracy: 0.5926\n",
      "Epoch 252/388\n",
      "1/1 [==============================] - 0s 4ms/step - loss: 0.7112 - accuracy: 0.5926\n",
      "Epoch 253/388\n",
      "1/1 [==============================] - 0s 2ms/step - loss: 0.7109 - accuracy: 0.5926\n",
      "Epoch 254/388\n",
      "1/1 [==============================] - 0s 4ms/step - loss: 0.7107 - accuracy: 0.5926\n",
      "Epoch 255/388\n",
      "1/1 [==============================] - 0s 2ms/step - loss: 0.7105 - accuracy: 0.5926\n",
      "Epoch 256/388\n",
      "1/1 [==============================] - 0s 4ms/step - loss: 0.7103 - accuracy: 0.5926\n",
      "Epoch 257/388\n",
      "1/1 [==============================] - 0s 8ms/step - loss: 0.7101 - accuracy: 0.5926\n",
      "Epoch 258/388\n",
      "1/1 [==============================] - 0s 6ms/step - loss: 0.7098 - accuracy: 0.5926\n",
      "Epoch 259/388\n",
      "1/1 [==============================] - 0s 6ms/step - loss: 0.7096 - accuracy: 0.5926\n",
      "Epoch 260/388\n",
      "1/1 [==============================] - 0s 4ms/step - loss: 0.7094 - accuracy: 0.5926\n",
      "Epoch 261/388\n",
      "1/1 [==============================] - 0s 5ms/step - loss: 0.7092 - accuracy: 0.5926\n",
      "Epoch 262/388\n",
      "1/1 [==============================] - 0s 5ms/step - loss: 0.7090 - accuracy: 0.5926\n",
      "Epoch 263/388\n",
      "1/1 [==============================] - 0s 6ms/step - loss: 0.7088 - accuracy: 0.5926\n",
      "Epoch 264/388\n",
      "1/1 [==============================] - 0s 4ms/step - loss: 0.7086 - accuracy: 0.5926\n",
      "Epoch 265/388\n",
      "1/1 [==============================] - 0s 5ms/step - loss: 0.7083 - accuracy: 0.5926\n",
      "Epoch 266/388\n",
      "1/1 [==============================] - 0s 4ms/step - loss: 0.7081 - accuracy: 0.5926\n",
      "Epoch 267/388\n",
      "1/1 [==============================] - 0s 6ms/step - loss: 0.7079 - accuracy: 0.5926\n",
      "Epoch 268/388\n",
      "1/1 [==============================] - 0s 5ms/step - loss: 0.7077 - accuracy: 0.5926\n",
      "Epoch 269/388\n",
      "1/1 [==============================] - 0s 2ms/step - loss: 0.7075 - accuracy: 0.5926\n",
      "Epoch 270/388\n",
      "1/1 [==============================] - 0s 5ms/step - loss: 0.7073 - accuracy: 0.5926\n",
      "Epoch 271/388\n",
      "1/1 [==============================] - 0s 2ms/step - loss: 0.7071 - accuracy: 0.5926\n",
      "Epoch 272/388\n",
      "1/1 [==============================] - 0s 7ms/step - loss: 0.7069 - accuracy: 0.5926\n",
      "Epoch 273/388\n",
      "1/1 [==============================] - 0s 2ms/step - loss: 0.7067 - accuracy: 0.5926\n",
      "Epoch 274/388\n",
      "1/1 [==============================] - 0s 4ms/step - loss: 0.7064 - accuracy: 0.5926\n",
      "Epoch 275/388\n",
      "1/1 [==============================] - 0s 4ms/step - loss: 0.7062 - accuracy: 0.5926\n",
      "Epoch 276/388\n",
      "1/1 [==============================] - 0s 2ms/step - loss: 0.7060 - accuracy: 0.5926\n",
      "Epoch 277/388\n",
      "1/1 [==============================] - 0s 4ms/step - loss: 0.7058 - accuracy: 0.5926\n",
      "Epoch 278/388\n",
      "1/1 [==============================] - 0s 4ms/step - loss: 0.7056 - accuracy: 0.5926\n",
      "Epoch 279/388\n",
      "1/1 [==============================] - 0s 4ms/step - loss: 0.7054 - accuracy: 0.5926\n",
      "Epoch 280/388\n",
      "1/1 [==============================] - 0s 3ms/step - loss: 0.7052 - accuracy: 0.5926\n",
      "Epoch 281/388\n",
      "1/1 [==============================] - 0s 4ms/step - loss: 0.7050 - accuracy: 0.5926\n",
      "Epoch 282/388\n",
      "1/1 [==============================] - 0s 5ms/step - loss: 0.7048 - accuracy: 0.5926\n",
      "Epoch 283/388\n",
      "1/1 [==============================] - 0s 3ms/step - loss: 0.7046 - accuracy: 0.5926\n",
      "Epoch 284/388\n",
      "1/1 [==============================] - 0s 3ms/step - loss: 0.7044 - accuracy: 0.5926\n",
      "Epoch 285/388\n",
      "1/1 [==============================] - 0s 4ms/step - loss: 0.7042 - accuracy: 0.5926\n",
      "Epoch 286/388\n",
      "1/1 [==============================] - 0s 2ms/step - loss: 0.7040 - accuracy: 0.5926\n",
      "Epoch 287/388\n",
      "1/1 [==============================] - 0s 3ms/step - loss: 0.7038 - accuracy: 0.5926\n",
      "Epoch 288/388\n",
      "1/1 [==============================] - 0s 5ms/step - loss: 0.7036 - accuracy: 0.5926\n",
      "Epoch 289/388\n",
      "1/1 [==============================] - 0s 3ms/step - loss: 0.7034 - accuracy: 0.5926\n",
      "Epoch 290/388\n",
      "1/1 [==============================] - 0s 4ms/step - loss: 0.7032 - accuracy: 0.5926\n",
      "Epoch 291/388\n",
      "1/1 [==============================] - 0s 4ms/step - loss: 0.7030 - accuracy: 0.5926\n",
      "Epoch 292/388\n",
      "1/1 [==============================] - 0s 3ms/step - loss: 0.7028 - accuracy: 0.5926\n",
      "Epoch 293/388\n",
      "1/1 [==============================] - 0s 2ms/step - loss: 0.7026 - accuracy: 0.5926\n",
      "Epoch 294/388\n",
      "1/1 [==============================] - 0s 5ms/step - loss: 0.7024 - accuracy: 0.5926\n",
      "Epoch 295/388\n",
      "1/1 [==============================] - 0s 4ms/step - loss: 0.7022 - accuracy: 0.5926\n",
      "Epoch 296/388\n",
      "1/1 [==============================] - 0s 3ms/step - loss: 0.7020 - accuracy: 0.5926\n",
      "Epoch 297/388\n",
      "1/1 [==============================] - 0s 4ms/step - loss: 0.7018 - accuracy: 0.5926\n",
      "Epoch 298/388\n",
      "1/1 [==============================] - 0s 4ms/step - loss: 0.7016 - accuracy: 0.5926\n",
      "Epoch 299/388\n",
      "1/1 [==============================] - 0s 3ms/step - loss: 0.7014 - accuracy: 0.5926\n",
      "Epoch 300/388\n",
      "1/1 [==============================] - 0s 3ms/step - loss: 0.7012 - accuracy: 0.5926\n",
      "Epoch 301/388\n",
      "1/1 [==============================] - 0s 4ms/step - loss: 0.7010 - accuracy: 0.5926\n",
      "Epoch 302/388\n",
      "1/1 [==============================] - 0s 2ms/step - loss: 0.7008 - accuracy: 0.5926\n",
      "Epoch 303/388\n",
      "1/1 [==============================] - 0s 5ms/step - loss: 0.7006 - accuracy: 0.5926\n",
      "Epoch 304/388\n",
      "1/1 [==============================] - 0s 4ms/step - loss: 0.7004 - accuracy: 0.5926\n",
      "Epoch 305/388\n",
      "1/1 [==============================] - 0s 3ms/step - loss: 0.7002 - accuracy: 0.5926\n",
      "Epoch 306/388\n",
      "1/1 [==============================] - 0s 3ms/step - loss: 0.7000 - accuracy: 0.5926\n",
      "Epoch 307/388\n",
      "1/1 [==============================] - 0s 4ms/step - loss: 0.6998 - accuracy: 0.5926\n",
      "Epoch 308/388\n",
      "1/1 [==============================] - 0s 3ms/step - loss: 0.6996 - accuracy: 0.5926\n",
      "Epoch 309/388\n",
      "1/1 [==============================] - 0s 5ms/step - loss: 0.6994 - accuracy: 0.6667\n",
      "Epoch 310/388\n",
      "1/1 [==============================] - 0s 2ms/step - loss: 0.6992 - accuracy: 0.6667\n",
      "Epoch 311/388\n",
      "1/1 [==============================] - 0s 3ms/step - loss: 0.6990 - accuracy: 0.6667\n",
      "Epoch 312/388\n",
      "1/1 [==============================] - 0s 4ms/step - loss: 0.6988 - accuracy: 0.6667\n",
      "Epoch 313/388\n",
      "1/1 [==============================] - 0s 3ms/step - loss: 0.6986 - accuracy: 0.6667\n",
      "Epoch 314/388\n",
      "1/1 [==============================] - 0s 4ms/step - loss: 0.6984 - accuracy: 0.6667\n",
      "Epoch 315/388\n",
      "1/1 [==============================] - 0s 3ms/step - loss: 0.6983 - accuracy: 0.6667\n",
      "Epoch 316/388\n",
      "1/1 [==============================] - 0s 2ms/step - loss: 0.6981 - accuracy: 0.6667\n",
      "Epoch 317/388\n",
      "1/1 [==============================] - 0s 5ms/step - loss: 0.6979 - accuracy: 0.6667\n",
      "Epoch 318/388\n",
      "1/1 [==============================] - 0s 4ms/step - loss: 0.6977 - accuracy: 0.6667\n",
      "Epoch 319/388\n",
      "1/1 [==============================] - 0s 2ms/step - loss: 0.6975 - accuracy: 0.6667\n",
      "Epoch 320/388\n",
      "1/1 [==============================] - 0s 4ms/step - loss: 0.6973 - accuracy: 0.6667\n",
      "Epoch 321/388\n",
      "1/1 [==============================] - 0s 3ms/step - loss: 0.6971 - accuracy: 0.6667\n",
      "Epoch 322/388\n",
      "1/1 [==============================] - 0s 3ms/step - loss: 0.6969 - accuracy: 0.6667\n",
      "Epoch 323/388\n",
      "1/1 [==============================] - 0s 4ms/step - loss: 0.6967 - accuracy: 0.6667\n",
      "Epoch 324/388\n",
      "1/1 [==============================] - 0s 2ms/step - loss: 0.6965 - accuracy: 0.7037\n",
      "Epoch 325/388\n",
      "1/1 [==============================] - 0s 3ms/step - loss: 0.6964 - accuracy: 0.7037\n",
      "Epoch 326/388\n",
      "1/1 [==============================] - 0s 7ms/step - loss: 0.6962 - accuracy: 0.7037\n",
      "Epoch 327/388\n",
      "1/1 [==============================] - 0s 3ms/step - loss: 0.6960 - accuracy: 0.7037\n",
      "Epoch 328/388\n",
      "1/1 [==============================] - 0s 5ms/step - loss: 0.6958 - accuracy: 0.7037\n",
      "Epoch 329/388\n",
      "1/1 [==============================] - 0s 5ms/step - loss: 0.6956 - accuracy: 0.7037\n",
      "Epoch 330/388\n",
      "1/1 [==============================] - 0s 3ms/step - loss: 0.6954 - accuracy: 0.7037\n",
      "Epoch 331/388\n"
     ]
    },
    {
     "name": "stdout",
     "output_type": "stream",
     "text": [
      "1/1 [==============================] - 0s 5ms/step - loss: 0.6952 - accuracy: 0.7037\n",
      "Epoch 332/388\n",
      "1/1 [==============================] - 0s 3ms/step - loss: 0.6950 - accuracy: 0.7037\n",
      "Epoch 333/388\n",
      "1/1 [==============================] - 0s 3ms/step - loss: 0.6949 - accuracy: 0.7037\n",
      "Epoch 334/388\n",
      "1/1 [==============================] - 0s 6ms/step - loss: 0.6947 - accuracy: 0.7037\n",
      "Epoch 335/388\n",
      "1/1 [==============================] - 0s 4ms/step - loss: 0.6945 - accuracy: 0.7037\n",
      "Epoch 336/388\n",
      "1/1 [==============================] - 0s 5ms/step - loss: 0.6943 - accuracy: 0.7037\n",
      "Epoch 337/388\n",
      "1/1 [==============================] - 0s 3ms/step - loss: 0.6941 - accuracy: 0.7037\n",
      "Epoch 338/388\n",
      "1/1 [==============================] - 0s 4ms/step - loss: 0.6939 - accuracy: 0.7037\n",
      "Epoch 339/388\n",
      "1/1 [==============================] - 0s 5ms/step - loss: 0.6938 - accuracy: 0.7037\n",
      "Epoch 340/388\n",
      "1/1 [==============================] - 0s 5ms/step - loss: 0.6936 - accuracy: 0.7037\n",
      "Epoch 341/388\n",
      "1/1 [==============================] - 0s 2ms/step - loss: 0.6934 - accuracy: 0.7037\n",
      "Epoch 342/388\n",
      "1/1 [==============================] - 0s 4ms/step - loss: 0.6932 - accuracy: 0.7037\n",
      "Epoch 343/388\n",
      "1/1 [==============================] - 0s 3ms/step - loss: 0.6930 - accuracy: 0.7037\n",
      "Epoch 344/388\n",
      "1/1 [==============================] - 0s 2ms/step - loss: 0.6928 - accuracy: 0.7037\n",
      "Epoch 345/388\n",
      "1/1 [==============================] - 0s 3ms/step - loss: 0.6927 - accuracy: 0.7037\n",
      "Epoch 346/388\n",
      "1/1 [==============================] - 0s 4ms/step - loss: 0.6925 - accuracy: 0.7037\n",
      "Epoch 347/388\n",
      "1/1 [==============================] - 0s 3ms/step - loss: 0.6923 - accuracy: 0.7037\n",
      "Epoch 348/388\n",
      "1/1 [==============================] - 0s 2ms/step - loss: 0.6921 - accuracy: 0.7037\n",
      "Epoch 349/388\n",
      "1/1 [==============================] - 0s 3ms/step - loss: 0.6919 - accuracy: 0.7037\n",
      "Epoch 350/388\n",
      "1/1 [==============================] - 0s 5ms/step - loss: 0.6917 - accuracy: 0.7037\n",
      "Epoch 351/388\n",
      "1/1 [==============================] - 0s 2ms/step - loss: 0.6916 - accuracy: 0.7037\n",
      "Epoch 352/388\n",
      "1/1 [==============================] - 0s 3ms/step - loss: 0.6914 - accuracy: 0.7037\n",
      "Epoch 353/388\n",
      "1/1 [==============================] - 0s 5ms/step - loss: 0.6912 - accuracy: 0.7037\n",
      "Epoch 354/388\n",
      "1/1 [==============================] - 0s 4ms/step - loss: 0.6910 - accuracy: 0.7037\n",
      "Epoch 355/388\n",
      "1/1 [==============================] - 0s 3ms/step - loss: 0.6909 - accuracy: 0.7037\n",
      "Epoch 356/388\n",
      "1/1 [==============================] - 0s 5ms/step - loss: 0.6907 - accuracy: 0.7037\n",
      "Epoch 357/388\n",
      "1/1 [==============================] - 0s 4ms/step - loss: 0.6905 - accuracy: 0.7037\n",
      "Epoch 358/388\n",
      "1/1 [==============================] - 0s 6ms/step - loss: 0.6903 - accuracy: 0.7037\n",
      "Epoch 359/388\n",
      "1/1 [==============================] - 0s 3ms/step - loss: 0.6901 - accuracy: 0.7037\n",
      "Epoch 360/388\n",
      "1/1 [==============================] - 0s 4ms/step - loss: 0.6900 - accuracy: 0.7037\n",
      "Epoch 361/388\n",
      "1/1 [==============================] - 0s 4ms/step - loss: 0.6898 - accuracy: 0.7037\n",
      "Epoch 362/388\n",
      "1/1 [==============================] - 0s 4ms/step - loss: 0.6896 - accuracy: 0.7037\n",
      "Epoch 363/388\n",
      "1/1 [==============================] - 0s 5ms/step - loss: 0.6894 - accuracy: 0.7037\n",
      "Epoch 364/388\n",
      "1/1 [==============================] - 0s 3ms/step - loss: 0.6893 - accuracy: 0.7037\n",
      "Epoch 365/388\n",
      "1/1 [==============================] - 0s 3ms/step - loss: 0.6891 - accuracy: 0.7037\n",
      "Epoch 366/388\n",
      "1/1 [==============================] - 0s 4ms/step - loss: 0.6889 - accuracy: 0.7037\n",
      "Epoch 367/388\n",
      "1/1 [==============================] - 0s 4ms/step - loss: 0.6887 - accuracy: 0.7037\n",
      "Epoch 368/388\n",
      "1/1 [==============================] - 0s 3ms/step - loss: 0.6885 - accuracy: 0.7037\n",
      "Epoch 369/388\n",
      "1/1 [==============================] - 0s 3ms/step - loss: 0.6884 - accuracy: 0.7037\n",
      "Epoch 370/388\n",
      "1/1 [==============================] - 0s 3ms/step - loss: 0.6882 - accuracy: 0.7037\n",
      "Epoch 371/388\n",
      "1/1 [==============================] - 0s 5ms/step - loss: 0.6880 - accuracy: 0.7037\n",
      "Epoch 372/388\n",
      "1/1 [==============================] - 0s 7ms/step - loss: 0.6878 - accuracy: 0.7037\n",
      "Epoch 373/388\n",
      "1/1 [==============================] - 0s 7ms/step - loss: 0.6877 - accuracy: 0.7037\n",
      "Epoch 374/388\n",
      "1/1 [==============================] - 0s 6ms/step - loss: 0.6875 - accuracy: 0.7037\n",
      "Epoch 375/388\n",
      "1/1 [==============================] - 0s 4ms/step - loss: 0.6873 - accuracy: 0.7037\n",
      "Epoch 376/388\n",
      "1/1 [==============================] - 0s 4ms/step - loss: 0.6872 - accuracy: 0.7037\n",
      "Epoch 377/388\n",
      "1/1 [==============================] - 0s 2ms/step - loss: 0.6870 - accuracy: 0.7037\n",
      "Epoch 378/388\n",
      "1/1 [==============================] - 0s 5ms/step - loss: 0.6868 - accuracy: 0.7037\n",
      "Epoch 379/388\n",
      "1/1 [==============================] - 0s 4ms/step - loss: 0.6866 - accuracy: 0.7037\n",
      "Epoch 380/388\n",
      "1/1 [==============================] - 0s 3ms/step - loss: 0.6865 - accuracy: 0.7037\n",
      "Epoch 381/388\n",
      "1/1 [==============================] - 0s 6ms/step - loss: 0.6863 - accuracy: 0.7037\n",
      "Epoch 382/388\n",
      "1/1 [==============================] - 0s 2ms/step - loss: 0.6861 - accuracy: 0.7037\n",
      "Epoch 383/388\n",
      "1/1 [==============================] - 0s 3ms/step - loss: 0.6859 - accuracy: 0.6667\n",
      "Epoch 384/388\n",
      "1/1 [==============================] - 0s 3ms/step - loss: 0.6858 - accuracy: 0.6667\n",
      "Epoch 385/388\n",
      "1/1 [==============================] - 0s 4ms/step - loss: 0.6856 - accuracy: 0.6667\n",
      "Epoch 386/388\n",
      "1/1 [==============================] - 0s 2ms/step - loss: 0.6854 - accuracy: 0.6667\n",
      "Epoch 387/388\n",
      "1/1 [==============================] - 0s 2ms/step - loss: 0.6853 - accuracy: 0.6667\n",
      "Epoch 388/388\n",
      "1/1 [==============================] - 0s 4ms/step - loss: 0.6851 - accuracy: 0.6667\n"
     ]
    },
    {
     "data": {
      "text/plain": [
       "<keras.callbacks.History at 0x16d36367100>"
      ]
     },
     "execution_count": 92,
     "metadata": {},
     "output_type": "execute_result"
    }
   ],
   "source": [
    "model.fit(X_train_scaled,y_train,epochs = 388)"
   ]
  },
  {
   "cell_type": "code",
   "execution_count": 93,
   "id": "e08dede8",
   "metadata": {},
   "outputs": [
    {
     "name": "stdout",
     "output_type": "stream",
     "text": [
      "1/1 [==============================] - 0s 92ms/step - loss: 0.6923 - accuracy: 0.7143\n"
     ]
    },
    {
     "data": {
      "text/plain": [
       "[0.6922670602798462, 0.7142857313156128]"
      ]
     },
     "execution_count": 93,
     "metadata": {},
     "output_type": "execute_result"
    }
   ],
   "source": [
    "model.evaluate(X_test_scaled,y_test)"
   ]
  },
  {
   "cell_type": "code",
   "execution_count": 94,
   "id": "4486c680",
   "metadata": {},
   "outputs": [
    {
     "data": {
      "text/plain": [
       "array([[0.6452925 ],\n",
       "       [0.7044754 ],\n",
       "       [0.51108915],\n",
       "       [0.478483  ],\n",
       "       [0.62368214],\n",
       "       [0.628047  ],\n",
       "       [0.50876   ]], dtype=float32)"
      ]
     },
     "execution_count": 94,
     "metadata": {},
     "output_type": "execute_result"
    }
   ],
   "source": [
    "model.predict(X_test_scaled)"
   ]
  },
  {
   "cell_type": "code",
   "execution_count": 95,
   "id": "2de6d7a7",
   "metadata": {},
   "outputs": [
    {
     "data": {
      "text/plain": [
       "15    0\n",
       "19    1\n",
       "27    1\n",
       "26    0\n",
       "8     1\n",
       "24    0\n",
       "21    1\n",
       "Name: insurance, dtype: int64"
      ]
     },
     "execution_count": 95,
     "metadata": {},
     "output_type": "execute_result"
    }
   ],
   "source": [
    "y_test"
   ]
  },
  {
   "cell_type": "code",
   "execution_count": 96,
   "id": "cbd09997",
   "metadata": {},
   "outputs": [],
   "source": [
    "coef, intercept = model.get_weights()"
   ]
  },
  {
   "cell_type": "code",
   "execution_count": 97,
   "id": "6f6b5ed6",
   "metadata": {},
   "outputs": [
    {
     "data": {
      "text/plain": [
       "(array([[0.932037 ],\n",
       "        [0.6565707]], dtype=float32),\n",
       " array([-0.3284509], dtype=float32))"
      ]
     },
     "execution_count": 97,
     "metadata": {},
     "output_type": "execute_result"
    }
   ],
   "source": [
    "coef, intercept"
   ]
  },
  {
   "cell_type": "code",
   "execution_count": 98,
   "id": "26d9f40f",
   "metadata": {},
   "outputs": [],
   "source": [
    "def sigmoid(x):\n",
    "    import math\n",
    "    return 1/(1+math.exp(-x))\n",
    "    "
   ]
  },
  {
   "cell_type": "code",
   "execution_count": 99,
   "id": "d6a1de56",
   "metadata": {},
   "outputs": [
    {
     "data": {
      "text/plain": [
       "1.6889118802245324e-48"
      ]
     },
     "execution_count": 99,
     "metadata": {},
     "output_type": "execute_result"
    }
   ],
   "source": [
    "sigmoid(-110)"
   ]
  },
  {
   "cell_type": "code",
   "execution_count": 100,
   "id": "643e2f71",
   "metadata": {},
   "outputs": [],
   "source": [
    "def prediction_function(age,affordibility):\n",
    "    weighted_sum=age*coef[0]+affordibility*coef[1]+intercept\n",
    "    return sigmoid(weighted_sum)"
   ]
  },
  {
   "cell_type": "code",
   "execution_count": 101,
   "id": "e6bf0fc8",
   "metadata": {},
   "outputs": [
    {
     "data": {
      "text/plain": [
       "0.9999807117134217"
      ]
     },
     "execution_count": 101,
     "metadata": {},
     "output_type": "execute_result"
    }
   ],
   "source": [
    "prediction_function(12,0)"
   ]
  },
  {
   "cell_type": "code",
   "execution_count": null,
   "id": "d1fc493e",
   "metadata": {},
   "outputs": [],
   "source": []
  }
 ],
 "metadata": {
  "kernelspec": {
   "display_name": "Python 3 (ipykernel)",
   "language": "python",
   "name": "python3"
  },
  "language_info": {
   "codemirror_mode": {
    "name": "ipython",
    "version": 3
   },
   "file_extension": ".py",
   "mimetype": "text/x-python",
   "name": "python",
   "nbconvert_exporter": "python",
   "pygments_lexer": "ipython3",
   "version": "3.9.7"
  }
 },
 "nbformat": 4,
 "nbformat_minor": 5
}
